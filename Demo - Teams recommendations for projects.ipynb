{
 "cells": [
  {
   "cell_type": "markdown",
   "id": "de52a3b1",
   "metadata": {},
   "source": [
    "# Demo - Teams recommendations for projects"
   ]
  },
  {
   "cell_type": "code",
   "execution_count": 1,
   "id": "b261a77e",
   "metadata": {},
   "outputs": [],
   "source": [
    "import pandas as pd"
   ]
  },
  {
   "cell_type": "markdown",
   "id": "b7ca88ca",
   "metadata": {},
   "source": [
    "## Teams sample generation"
   ]
  },
  {
   "cell_type": "code",
   "execution_count": 2,
   "id": "98bcb095",
   "metadata": {},
   "outputs": [],
   "source": [
    "from utils import TeamsFactory"
   ]
  },
  {
   "cell_type": "code",
   "execution_count": 3,
   "id": "33c689d3",
   "metadata": {},
   "outputs": [],
   "source": [
    "args = {\n",
    "    \"teams_amount\": 100,\n",
    "    \"max_programming_languages\": 4 ,\n",
    "    \"max_frameworks\": 3 ,\n",
    "    \"max_platforms\": 1,\n",
    "    \"max_databases\": 3,\n",
    "    \"max_idioms\": 2,\n",
    "    \"max_project_preferences\": 2\n",
    "}"
   ]
  },
  {
   "cell_type": "code",
   "execution_count": 4,
   "id": "beffe6c9",
   "metadata": {},
   "outputs": [],
   "source": [
    "factory = TeamsFactory(**args)\n",
    "teams = factory.create_teams()"
   ]
  },
  {
   "cell_type": "code",
   "execution_count": 80,
   "id": "a1392d07",
   "metadata": {},
   "outputs": [],
   "source": [
    "teams_df = pd.DataFrame(teams)"
   ]
  },
  {
   "cell_type": "code",
   "execution_count": 81,
   "id": "28b0779d",
   "metadata": {},
   "outputs": [
    {
     "data": {
      "text/html": [
       "<div>\n",
       "<style scoped>\n",
       "    .dataframe tbody tr th:only-of-type {\n",
       "        vertical-align: middle;\n",
       "    }\n",
       "\n",
       "    .dataframe tbody tr th {\n",
       "        vertical-align: top;\n",
       "    }\n",
       "\n",
       "    .dataframe thead th {\n",
       "        text-align: right;\n",
       "    }\n",
       "</style>\n",
       "<table border=\"1\" class=\"dataframe\">\n",
       "  <thead>\n",
       "    <tr style=\"text-align: right;\">\n",
       "      <th></th>\n",
       "      <th>name</th>\n",
       "      <th>project_preferences</th>\n",
       "      <th>owner</th>\n",
       "      <th>idioms</th>\n",
       "      <th>technologies</th>\n",
       "    </tr>\n",
       "  </thead>\n",
       "  <tbody>\n",
       "    <tr>\n",
       "      <th>95</th>\n",
       "      <td>team_95</td>\n",
       "      <td>[crypto, data_engineering]</td>\n",
       "      <td>9XUXZILjj1NUukUcWQy8FpNQl9F2</td>\n",
       "      <td>[English]</td>\n",
       "      <td>{'programming_language': ['Ruby'], 'frameworks...</td>\n",
       "    </tr>\n",
       "    <tr>\n",
       "      <th>96</th>\n",
       "      <td>team_96</td>\n",
       "      <td>[base, data_engineering]</td>\n",
       "      <td>9XUXZILjj1NUukUcWQy8FpNQl9F2</td>\n",
       "      <td>[Spanish]</td>\n",
       "      <td>{'programming_language': ['JavaScript'], 'fram...</td>\n",
       "    </tr>\n",
       "    <tr>\n",
       "      <th>97</th>\n",
       "      <td>team_97</td>\n",
       "      <td>[mobile, backend]</td>\n",
       "      <td>9XUXZILjj1NUukUcWQy8FpNQl9F2</td>\n",
       "      <td>[Spanish]</td>\n",
       "      <td>{'programming_language': ['Ruby'], 'frameworks...</td>\n",
       "    </tr>\n",
       "    <tr>\n",
       "      <th>98</th>\n",
       "      <td>team_98</td>\n",
       "      <td>[mobile]</td>\n",
       "      <td>9XUXZILjj1NUukUcWQy8FpNQl9F2</td>\n",
       "      <td>[Spanish]</td>\n",
       "      <td>{'programming_language': ['JavaScript'], 'fram...</td>\n",
       "    </tr>\n",
       "    <tr>\n",
       "      <th>99</th>\n",
       "      <td>team_99</td>\n",
       "      <td>[base]</td>\n",
       "      <td>9XUXZILjj1NUukUcWQy8FpNQl9F2</td>\n",
       "      <td>[Spanish, English]</td>\n",
       "      <td>{'programming_language': ['JavaScript'], 'fram...</td>\n",
       "    </tr>\n",
       "  </tbody>\n",
       "</table>\n",
       "</div>"
      ],
      "text/plain": [
       "       name         project_preferences                         owner  \\\n",
       "95  team_95  [crypto, data_engineering]  9XUXZILjj1NUukUcWQy8FpNQl9F2   \n",
       "96  team_96    [base, data_engineering]  9XUXZILjj1NUukUcWQy8FpNQl9F2   \n",
       "97  team_97           [mobile, backend]  9XUXZILjj1NUukUcWQy8FpNQl9F2   \n",
       "98  team_98                    [mobile]  9XUXZILjj1NUukUcWQy8FpNQl9F2   \n",
       "99  team_99                      [base]  9XUXZILjj1NUukUcWQy8FpNQl9F2   \n",
       "\n",
       "                idioms                                       technologies  \n",
       "95           [English]  {'programming_language': ['Ruby'], 'frameworks...  \n",
       "96           [Spanish]  {'programming_language': ['JavaScript'], 'fram...  \n",
       "97           [Spanish]  {'programming_language': ['Ruby'], 'frameworks...  \n",
       "98           [Spanish]  {'programming_language': ['JavaScript'], 'fram...  \n",
       "99  [Spanish, English]  {'programming_language': ['JavaScript'], 'fram...  "
      ]
     },
     "execution_count": 81,
     "metadata": {},
     "output_type": "execute_result"
    }
   ],
   "source": [
    "teams_df.tail()"
   ]
  },
  {
   "cell_type": "code",
   "execution_count": 82,
   "id": "c0af4883",
   "metadata": {},
   "outputs": [
    {
     "name": "stdout",
     "output_type": "stream",
     "text": [
      "<class 'pandas.core.frame.DataFrame'>\n",
      "RangeIndex: 100 entries, 0 to 99\n",
      "Data columns (total 5 columns):\n",
      " #   Column               Non-Null Count  Dtype \n",
      "---  ------               --------------  ----- \n",
      " 0   name                 100 non-null    object\n",
      " 1   project_preferences  100 non-null    object\n",
      " 2   owner                100 non-null    object\n",
      " 3   idioms               100 non-null    object\n",
      " 4   technologies         100 non-null    object\n",
      "dtypes: object(5)\n",
      "memory usage: 4.0+ KB\n"
     ]
    }
   ],
   "source": [
    "teams_df.info()"
   ]
  },
  {
   "cell_type": "code",
   "execution_count": 83,
   "id": "5f8143d5",
   "metadata": {},
   "outputs": [],
   "source": [
    "teams_df.to_csv(\"teams_input.csv\",index=False)"
   ]
  },
  {
   "cell_type": "code",
   "execution_count": 5,
   "id": "592959ac",
   "metadata": {},
   "outputs": [],
   "source": [
    "teams_df = pd.read_csv(\"teams_input.csv\")"
   ]
  },
  {
   "cell_type": "markdown",
   "id": "06afe38a",
   "metadata": {},
   "source": [
    "## Project example"
   ]
  },
  {
   "cell_type": "code",
   "execution_count": 6,
   "id": "535297db",
   "metadata": {},
   "outputs": [
    {
     "data": {
      "text/html": [
       "<div>\n",
       "<style scoped>\n",
       "    .dataframe tbody tr th:only-of-type {\n",
       "        vertical-align: middle;\n",
       "    }\n",
       "\n",
       "    .dataframe tbody tr th {\n",
       "        vertical-align: top;\n",
       "    }\n",
       "\n",
       "    .dataframe thead th {\n",
       "        text-align: right;\n",
       "    }\n",
       "</style>\n",
       "<table border=\"1\" class=\"dataframe\">\n",
       "  <thead>\n",
       "    <tr style=\"text-align: right;\">\n",
       "      <th></th>\n",
       "      <th>name</th>\n",
       "      <th>project_preferences</th>\n",
       "      <th>owner</th>\n",
       "      <th>idioms</th>\n",
       "      <th>technologies</th>\n",
       "    </tr>\n",
       "  </thead>\n",
       "  <tbody>\n",
       "    <tr>\n",
       "      <th>0</th>\n",
       "      <td></td>\n",
       "      <td>[backend]</td>\n",
       "      <td></td>\n",
       "      <td>[English]</td>\n",
       "      <td>{'programming_language': ['Python'], 'framewor...</td>\n",
       "    </tr>\n",
       "  </tbody>\n",
       "</table>\n",
       "</div>"
      ],
      "text/plain": [
       "  name project_preferences owner     idioms  \\\n",
       "0                [backend]        [English]   \n",
       "\n",
       "                                        technologies  \n",
       "0  {'programming_language': ['Python'], 'framewor...  "
      ]
     },
     "execution_count": 6,
     "metadata": {},
     "output_type": "execute_result"
    }
   ],
   "source": [
    "project = {\n",
    "    \"pid\": \"057dc2ae-462c-43f7-9fb6-bcdd67c8ff1a\",\n",
    "    \"name\": \"Python-Django Project\",\n",
    "    \"idioms\": [\n",
    "      \"English\"\n",
    "    ],\n",
    "    \"description\": {\n",
    "      \"files_attached\": {\n",
    "        \"files\": [],\n",
    "        \"images\": []\n",
    "      },\n",
    "      \"functional_requirements\": [\n",
    "        \"\"\n",
    "      ],\n",
    "      \"non_function_requirements\": [],\n",
    "      \"summary\": \"DESIGN AND DEVELOP PLATFORM USING PYTHON AND DJANGO FOR AN API-PRODUCT COMPANY\"\n",
    "    },\n",
    "    \"technologies\": {\n",
    "      \"programming_language\": [\n",
    "        \"Python\"      ],\n",
    "      \"frameworks\": [\n",
    "        \"Django\"\n",
    "      ],\n",
    "      \"platforms\": [],\n",
    "      \"databases\": [\n",
    "        \"PostgreSQL\"\n",
    "      ]\n",
    "    },\n",
    "    \"state\": \"PENDING\",\n",
    "    \"created_date\": \"26-02-2023:21:20:10\",\n",
    "    \"updated_date\": \"26-02-2023:21:20:10\",\n",
    "    \"team_assigned\": None,\n",
    "    \"activities_record\": [],\n",
    "    \"tentative_budget\": 1000,\n",
    "    \"budget_currency\": \"DOLAR\",\n",
    "    \"tentative_duration\": 1,\n",
    "    \"unit_duration\": \"MONTHS\",\n",
    "    \"project_type\": \"backend\",\n",
    "    \"creator\": {\n",
    "      \"uid\": \"9XUXZILjj1NUukUcWQy8FpNQl9F2\",\n",
    "      \"name\": \"Matias\",\n",
    "      \"lastname\": \"Fonseca\",\n",
    "      \"email\": \"mfonseca@fi.uba.ar\",\n",
    "      \"location\": \"Buenos Aires, Argentina\",\n",
    "      \"education\": [],\n",
    "      \"work_experience\": [],\n",
    "      \"profile_image\": \"default\",\n",
    "      \"cover_image\": \"default\",\n",
    "      \"created_date\": \"19-02-2023:23:40:29\",\n",
    "      \"updated_date\": \"19-02-2023:23:40:29\",\n",
    "      \"skills\": None,\n",
    "      \"idioms\": None\n",
    "    }\n",
    "}\n",
    "\n",
    "ideal_team = factory.get_ideal_team(project)\n",
    "ideal_team_df = pd.DataFrame([ideal_team])\n",
    "ideal_team_df.head()"
   ]
  },
  {
   "cell_type": "markdown",
   "id": "cb3f3129",
   "metadata": {},
   "source": [
    "## Data Transformation before matching"
   ]
  },
  {
   "cell_type": "code",
   "execution_count": 7,
   "id": "4a8c8d1f",
   "metadata": {},
   "outputs": [],
   "source": [
    "from pipeline_transformations import * "
   ]
  },
  {
   "cell_type": "code",
   "execution_count": 8,
   "id": "916608bb",
   "metadata": {},
   "outputs": [],
   "source": [
    "from sklearn import set_config\n",
    "set_config(display=\"diagram\")"
   ]
  },
  {
   "cell_type": "code",
   "execution_count": 9,
   "id": "093dbd6b",
   "metadata": {},
   "outputs": [],
   "source": [
    "pipeline = Pipeline(\n",
    "    steps=[('descompose_technologies', DescomposeTechnologies()),\n",
    "           ('idioms_ohe', OHEIdioms()),\n",
    "           ('programming_language_ohe', OHEProgrammingLanguage()),\n",
    "           ('frameworks_ohe', OHEFrameworks()),\n",
    "           ('platform_ohe', OHEPlatforms()),\n",
    "           ('databases_ohe', OHEDatabases()),\n",
    "           ('project_preferences_ohe', OHEProjectPreferences()),\n",
    "           ('remove_columns', RemoveColumns()),\n",
    "          ])"
   ]
  },
  {
   "cell_type": "code",
   "execution_count": 10,
   "id": "9142be12",
   "metadata": {},
   "outputs": [
    {
     "data": {
      "text/html": [
       "<style>#sk-aed526f2-9adc-4b8d-aba4-0806c3926ad4 {color: black;background-color: white;}#sk-aed526f2-9adc-4b8d-aba4-0806c3926ad4 pre{padding: 0;}#sk-aed526f2-9adc-4b8d-aba4-0806c3926ad4 div.sk-toggleable {background-color: white;}#sk-aed526f2-9adc-4b8d-aba4-0806c3926ad4 label.sk-toggleable__label {cursor: pointer;display: block;width: 100%;margin-bottom: 0;padding: 0.2em 0.3em;box-sizing: border-box;text-align: center;}#sk-aed526f2-9adc-4b8d-aba4-0806c3926ad4 div.sk-toggleable__content {max-height: 0;max-width: 0;overflow: hidden;text-align: left;background-color: #f0f8ff;}#sk-aed526f2-9adc-4b8d-aba4-0806c3926ad4 div.sk-toggleable__content pre {margin: 0.2em;color: black;border-radius: 0.25em;background-color: #f0f8ff;}#sk-aed526f2-9adc-4b8d-aba4-0806c3926ad4 input.sk-toggleable__control:checked~div.sk-toggleable__content {max-height: 200px;max-width: 100%;overflow: auto;}#sk-aed526f2-9adc-4b8d-aba4-0806c3926ad4 div.sk-estimator input.sk-toggleable__control:checked~label.sk-toggleable__label {background-color: #d4ebff;}#sk-aed526f2-9adc-4b8d-aba4-0806c3926ad4 div.sk-label input.sk-toggleable__control:checked~label.sk-toggleable__label {background-color: #d4ebff;}#sk-aed526f2-9adc-4b8d-aba4-0806c3926ad4 input.sk-hidden--visually {border: 0;clip: rect(1px 1px 1px 1px);clip: rect(1px, 1px, 1px, 1px);height: 1px;margin: -1px;overflow: hidden;padding: 0;position: absolute;width: 1px;}#sk-aed526f2-9adc-4b8d-aba4-0806c3926ad4 div.sk-estimator {font-family: monospace;background-color: #f0f8ff;margin: 0.25em 0.25em;border: 1px dotted black;border-radius: 0.25em;box-sizing: border-box;}#sk-aed526f2-9adc-4b8d-aba4-0806c3926ad4 div.sk-estimator:hover {background-color: #d4ebff;}#sk-aed526f2-9adc-4b8d-aba4-0806c3926ad4 div.sk-parallel-item::after {content: \"\";width: 100%;border-bottom: 1px solid gray;flex-grow: 1;}#sk-aed526f2-9adc-4b8d-aba4-0806c3926ad4 div.sk-label:hover label.sk-toggleable__label {background-color: #d4ebff;}#sk-aed526f2-9adc-4b8d-aba4-0806c3926ad4 div.sk-serial::before {content: \"\";position: absolute;border-left: 1px solid gray;box-sizing: border-box;top: 2em;bottom: 0;left: 50%;}#sk-aed526f2-9adc-4b8d-aba4-0806c3926ad4 div.sk-serial {display: flex;flex-direction: column;align-items: center;background-color: white;}#sk-aed526f2-9adc-4b8d-aba4-0806c3926ad4 div.sk-item {z-index: 1;}#sk-aed526f2-9adc-4b8d-aba4-0806c3926ad4 div.sk-parallel {display: flex;align-items: stretch;justify-content: center;background-color: white;}#sk-aed526f2-9adc-4b8d-aba4-0806c3926ad4 div.sk-parallel-item {display: flex;flex-direction: column;position: relative;background-color: white;}#sk-aed526f2-9adc-4b8d-aba4-0806c3926ad4 div.sk-parallel-item:first-child::after {align-self: flex-end;width: 50%;}#sk-aed526f2-9adc-4b8d-aba4-0806c3926ad4 div.sk-parallel-item:last-child::after {align-self: flex-start;width: 50%;}#sk-aed526f2-9adc-4b8d-aba4-0806c3926ad4 div.sk-parallel-item:only-child::after {width: 0;}#sk-aed526f2-9adc-4b8d-aba4-0806c3926ad4 div.sk-dashed-wrapped {border: 1px dashed gray;margin: 0.2em;box-sizing: border-box;padding-bottom: 0.1em;background-color: white;position: relative;}#sk-aed526f2-9adc-4b8d-aba4-0806c3926ad4 div.sk-label label {font-family: monospace;font-weight: bold;background-color: white;display: inline-block;line-height: 1.2em;}#sk-aed526f2-9adc-4b8d-aba4-0806c3926ad4 div.sk-label-container {position: relative;z-index: 2;text-align: center;}#sk-aed526f2-9adc-4b8d-aba4-0806c3926ad4 div.sk-container {display: inline-block;position: relative;}</style><div id=\"sk-aed526f2-9adc-4b8d-aba4-0806c3926ad4\" class\"sk-top-container\"><div class=\"sk-container\"><div class=\"sk-item sk-dashed-wrapped\"><div class=\"sk-label-container\"><div class=\"sk-label sk-toggleable\"><input class=\"sk-toggleable__control sk-hidden--visually\" id=\"f6ac8f55-6723-4d18-b2ba-1d729cd2c10c\" type=\"checkbox\" ><label class=\"sk-toggleable__label\" for=\"f6ac8f55-6723-4d18-b2ba-1d729cd2c10c\">Pipeline</label><div class=\"sk-toggleable__content\"><pre>Pipeline(steps=[('descompose_technologies', DescomposeTechnologies()),\n",
       "                ('idioms_ohe', OHEIdioms()),\n",
       "                ('programming_language_ohe', OHEProgrammingLanguage()),\n",
       "                ('frameworks_ohe', OHEFrameworks()),\n",
       "                ('platform_ohe', OHEPlatforms()),\n",
       "                ('databases_ohe', OHEDatabases()),\n",
       "                ('project_preferences_ohe', OHEProjectPreferences()),\n",
       "                ('remove_columns', RemoveColumns())])</pre></div></div></div><div class=\"sk-serial\"><div class=\"sk-item\"><div class=\"sk-estimator sk-toggleable\"><input class=\"sk-toggleable__control sk-hidden--visually\" id=\"4e39faaf-fe71-404b-b9c5-f3abc88471a4\" type=\"checkbox\" ><label class=\"sk-toggleable__label\" for=\"4e39faaf-fe71-404b-b9c5-f3abc88471a4\">DescomposeTechnologies</label><div class=\"sk-toggleable__content\"><pre>DescomposeTechnologies()</pre></div></div></div><div class=\"sk-item\"><div class=\"sk-estimator sk-toggleable\"><input class=\"sk-toggleable__control sk-hidden--visually\" id=\"50faf077-6f8d-4a28-86f8-c85c12812cb2\" type=\"checkbox\" ><label class=\"sk-toggleable__label\" for=\"50faf077-6f8d-4a28-86f8-c85c12812cb2\">OHEIdioms</label><div class=\"sk-toggleable__content\"><pre>OHEIdioms()</pre></div></div></div><div class=\"sk-item\"><div class=\"sk-estimator sk-toggleable\"><input class=\"sk-toggleable__control sk-hidden--visually\" id=\"95ec480e-0cf1-415e-b4cf-608a584b2171\" type=\"checkbox\" ><label class=\"sk-toggleable__label\" for=\"95ec480e-0cf1-415e-b4cf-608a584b2171\">OHEProgrammingLanguage</label><div class=\"sk-toggleable__content\"><pre>OHEProgrammingLanguage()</pre></div></div></div><div class=\"sk-item\"><div class=\"sk-estimator sk-toggleable\"><input class=\"sk-toggleable__control sk-hidden--visually\" id=\"4636a848-a885-4656-b10f-9d78daa1466e\" type=\"checkbox\" ><label class=\"sk-toggleable__label\" for=\"4636a848-a885-4656-b10f-9d78daa1466e\">OHEFrameworks</label><div class=\"sk-toggleable__content\"><pre>OHEFrameworks()</pre></div></div></div><div class=\"sk-item\"><div class=\"sk-estimator sk-toggleable\"><input class=\"sk-toggleable__control sk-hidden--visually\" id=\"6e7d8486-4897-4776-96ff-868f729f01e1\" type=\"checkbox\" ><label class=\"sk-toggleable__label\" for=\"6e7d8486-4897-4776-96ff-868f729f01e1\">OHEPlatforms</label><div class=\"sk-toggleable__content\"><pre>OHEPlatforms()</pre></div></div></div><div class=\"sk-item\"><div class=\"sk-estimator sk-toggleable\"><input class=\"sk-toggleable__control sk-hidden--visually\" id=\"cc055a41-0c7e-4a60-a90e-b3e060f9ea8e\" type=\"checkbox\" ><label class=\"sk-toggleable__label\" for=\"cc055a41-0c7e-4a60-a90e-b3e060f9ea8e\">OHEDatabases</label><div class=\"sk-toggleable__content\"><pre>OHEDatabases()</pre></div></div></div><div class=\"sk-item\"><div class=\"sk-estimator sk-toggleable\"><input class=\"sk-toggleable__control sk-hidden--visually\" id=\"bf1dc869-1e28-40a7-b1e2-5e470a5e8dee\" type=\"checkbox\" ><label class=\"sk-toggleable__label\" for=\"bf1dc869-1e28-40a7-b1e2-5e470a5e8dee\">OHEProjectPreferences</label><div class=\"sk-toggleable__content\"><pre>OHEProjectPreferences()</pre></div></div></div><div class=\"sk-item\"><div class=\"sk-estimator sk-toggleable\"><input class=\"sk-toggleable__control sk-hidden--visually\" id=\"b15ba801-1088-4b17-bbab-5dc38cf50470\" type=\"checkbox\" ><label class=\"sk-toggleable__label\" for=\"b15ba801-1088-4b17-bbab-5dc38cf50470\">RemoveColumns</label><div class=\"sk-toggleable__content\"><pre>RemoveColumns()</pre></div></div></div></div></div></div></div>"
      ],
      "text/plain": [
       "Pipeline(steps=[('descompose_technologies', DescomposeTechnologies()),\n",
       "                ('idioms_ohe', OHEIdioms()),\n",
       "                ('programming_language_ohe', OHEProgrammingLanguage()),\n",
       "                ('frameworks_ohe', OHEFrameworks()),\n",
       "                ('platform_ohe', OHEPlatforms()),\n",
       "                ('databases_ohe', OHEDatabases()),\n",
       "                ('project_preferences_ohe', OHEProjectPreferences()),\n",
       "                ('remove_columns', RemoveColumns())])"
      ]
     },
     "execution_count": 10,
     "metadata": {},
     "output_type": "execute_result"
    }
   ],
   "source": [
    "pipeline"
   ]
  },
  {
   "cell_type": "code",
   "execution_count": 11,
   "id": "30d51db6",
   "metadata": {
    "collapsed": true
   },
   "outputs": [
    {
     "name": "stderr",
     "output_type": "stream",
     "text": [
      "/Users/matifonseca/Workspace/FindMyTeam/Models/pipeline_transformations.py:63: PerformanceWarning: DataFrame is highly fragmented.  This is usually the result of calling `frame.insert` many times, which has poor performance.  Consider joining all columns at once using pd.concat(axis=1) instead. To get a de-fragmented frame, use `newframe = frame.copy()`\n",
      "  X[f\"programming_language_{language}\"] = X[\"programming_language\"].map(lambda languages_i: 1 if value_in(language, languages_i) else 0)\n",
      "/Users/matifonseca/Workspace/FindMyTeam/Models/pipeline_transformations.py:63: PerformanceWarning: DataFrame is highly fragmented.  This is usually the result of calling `frame.insert` many times, which has poor performance.  Consider joining all columns at once using pd.concat(axis=1) instead. To get a de-fragmented frame, use `newframe = frame.copy()`\n",
      "  X[f\"programming_language_{language}\"] = X[\"programming_language\"].map(lambda languages_i: 1 if value_in(language, languages_i) else 0)\n"
     ]
    }
   ],
   "source": [
    "ideal_team_input = pipeline.transform(ideal_team_df)"
   ]
  },
  {
   "cell_type": "code",
   "execution_count": 12,
   "id": "d4c57d8e",
   "metadata": {},
   "outputs": [
    {
     "data": {
      "text/html": [
       "<div>\n",
       "<style scoped>\n",
       "    .dataframe tbody tr th:only-of-type {\n",
       "        vertical-align: middle;\n",
       "    }\n",
       "\n",
       "    .dataframe tbody tr th {\n",
       "        vertical-align: top;\n",
       "    }\n",
       "\n",
       "    .dataframe thead th {\n",
       "        text-align: right;\n",
       "    }\n",
       "</style>\n",
       "<table border=\"1\" class=\"dataframe\">\n",
       "  <thead>\n",
       "    <tr style=\"text-align: right;\">\n",
       "      <th></th>\n",
       "      <th>idiom_english</th>\n",
       "      <th>idiom_chinese</th>\n",
       "      <th>idiom_spanish</th>\n",
       "      <th>idiom_french</th>\n",
       "      <th>idiom_german</th>\n",
       "      <th>idiom_portuguese</th>\n",
       "      <th>programming_language_python</th>\n",
       "      <th>programming_language_java</th>\n",
       "      <th>programming_language_javascript</th>\n",
       "      <th>programming_language_c++</th>\n",
       "      <th>...</th>\n",
       "      <th>database_memcached</th>\n",
       "      <th>database_microsoft azure sql database</th>\n",
       "      <th>project_preferences_base</th>\n",
       "      <th>project_preferences_backend</th>\n",
       "      <th>project_preferences_mobile</th>\n",
       "      <th>project_preferences_web</th>\n",
       "      <th>project_preferences_crypto</th>\n",
       "      <th>project_preferences_data_analitycs</th>\n",
       "      <th>project_preferences_data_science</th>\n",
       "      <th>project_preferences_data_engineering</th>\n",
       "    </tr>\n",
       "  </thead>\n",
       "  <tbody>\n",
       "    <tr>\n",
       "      <th>0</th>\n",
       "      <td>1</td>\n",
       "      <td>0</td>\n",
       "      <td>0</td>\n",
       "      <td>0</td>\n",
       "      <td>0</td>\n",
       "      <td>0</td>\n",
       "      <td>1</td>\n",
       "      <td>0</td>\n",
       "      <td>0</td>\n",
       "      <td>0</td>\n",
       "      <td>...</td>\n",
       "      <td>0</td>\n",
       "      <td>0</td>\n",
       "      <td>0</td>\n",
       "      <td>1</td>\n",
       "      <td>0</td>\n",
       "      <td>0</td>\n",
       "      <td>0</td>\n",
       "      <td>0</td>\n",
       "      <td>0</td>\n",
       "      <td>0</td>\n",
       "    </tr>\n",
       "  </tbody>\n",
       "</table>\n",
       "<p>1 rows × 167 columns</p>\n",
       "</div>"
      ],
      "text/plain": [
       "   idiom_english  idiom_chinese  idiom_spanish  idiom_french  idiom_german  \\\n",
       "0              1              0              0             0             0   \n",
       "\n",
       "   idiom_portuguese  programming_language_python  programming_language_java  \\\n",
       "0                 0                            1                          0   \n",
       "\n",
       "   programming_language_javascript  programming_language_c++  ...  \\\n",
       "0                                0                         0  ...   \n",
       "\n",
       "   database_memcached  database_microsoft azure sql database  \\\n",
       "0                   0                                      0   \n",
       "\n",
       "   project_preferences_base  project_preferences_backend  \\\n",
       "0                         0                            1   \n",
       "\n",
       "   project_preferences_mobile  project_preferences_web  \\\n",
       "0                           0                        0   \n",
       "\n",
       "   project_preferences_crypto  project_preferences_data_analitycs  \\\n",
       "0                           0                                   0   \n",
       "\n",
       "   project_preferences_data_science  project_preferences_data_engineering  \n",
       "0                                 0                                     0  \n",
       "\n",
       "[1 rows x 167 columns]"
      ]
     },
     "execution_count": 12,
     "metadata": {},
     "output_type": "execute_result"
    }
   ],
   "source": [
    "ideal_team_input.head()"
   ]
  },
  {
   "cell_type": "code",
   "execution_count": 13,
   "id": "7918eb00",
   "metadata": {
    "collapsed": true
   },
   "outputs": [
    {
     "name": "stderr",
     "output_type": "stream",
     "text": [
      "/Users/matifonseca/Workspace/FindMyTeam/Models/pipeline_transformations.py:63: PerformanceWarning: DataFrame is highly fragmented.  This is usually the result of calling `frame.insert` many times, which has poor performance.  Consider joining all columns at once using pd.concat(axis=1) instead. To get a de-fragmented frame, use `newframe = frame.copy()`\n",
      "  X[f\"programming_language_{language}\"] = X[\"programming_language\"].map(lambda languages_i: 1 if value_in(language, languages_i) else 0)\n",
      "/Users/matifonseca/Workspace/FindMyTeam/Models/pipeline_transformations.py:63: PerformanceWarning: DataFrame is highly fragmented.  This is usually the result of calling `frame.insert` many times, which has poor performance.  Consider joining all columns at once using pd.concat(axis=1) instead. To get a de-fragmented frame, use `newframe = frame.copy()`\n",
      "  X[f\"programming_language_{language}\"] = X[\"programming_language\"].map(lambda languages_i: 1 if value_in(language, languages_i) else 0)\n"
     ]
    }
   ],
   "source": [
    "teams_input = pipeline.transform(teams_df)"
   ]
  },
  {
   "cell_type": "code",
   "execution_count": 14,
   "id": "dcc82012",
   "metadata": {},
   "outputs": [
    {
     "data": {
      "text/html": [
       "<div>\n",
       "<style scoped>\n",
       "    .dataframe tbody tr th:only-of-type {\n",
       "        vertical-align: middle;\n",
       "    }\n",
       "\n",
       "    .dataframe tbody tr th {\n",
       "        vertical-align: top;\n",
       "    }\n",
       "\n",
       "    .dataframe thead th {\n",
       "        text-align: right;\n",
       "    }\n",
       "</style>\n",
       "<table border=\"1\" class=\"dataframe\">\n",
       "  <thead>\n",
       "    <tr style=\"text-align: right;\">\n",
       "      <th></th>\n",
       "      <th>idiom_english</th>\n",
       "      <th>idiom_chinese</th>\n",
       "      <th>idiom_spanish</th>\n",
       "      <th>idiom_french</th>\n",
       "      <th>idiom_german</th>\n",
       "      <th>idiom_portuguese</th>\n",
       "      <th>programming_language_python</th>\n",
       "      <th>programming_language_java</th>\n",
       "      <th>programming_language_javascript</th>\n",
       "      <th>programming_language_c++</th>\n",
       "      <th>...</th>\n",
       "      <th>database_memcached</th>\n",
       "      <th>database_microsoft azure sql database</th>\n",
       "      <th>project_preferences_base</th>\n",
       "      <th>project_preferences_backend</th>\n",
       "      <th>project_preferences_mobile</th>\n",
       "      <th>project_preferences_web</th>\n",
       "      <th>project_preferences_crypto</th>\n",
       "      <th>project_preferences_data_analitycs</th>\n",
       "      <th>project_preferences_data_science</th>\n",
       "      <th>project_preferences_data_engineering</th>\n",
       "    </tr>\n",
       "  </thead>\n",
       "  <tbody>\n",
       "    <tr>\n",
       "      <th>95</th>\n",
       "      <td>1</td>\n",
       "      <td>0</td>\n",
       "      <td>0</td>\n",
       "      <td>0</td>\n",
       "      <td>0</td>\n",
       "      <td>0</td>\n",
       "      <td>0</td>\n",
       "      <td>0</td>\n",
       "      <td>0</td>\n",
       "      <td>0</td>\n",
       "      <td>...</td>\n",
       "      <td>0</td>\n",
       "      <td>0</td>\n",
       "      <td>0</td>\n",
       "      <td>0</td>\n",
       "      <td>0</td>\n",
       "      <td>0</td>\n",
       "      <td>1</td>\n",
       "      <td>0</td>\n",
       "      <td>0</td>\n",
       "      <td>1</td>\n",
       "    </tr>\n",
       "    <tr>\n",
       "      <th>96</th>\n",
       "      <td>0</td>\n",
       "      <td>0</td>\n",
       "      <td>1</td>\n",
       "      <td>0</td>\n",
       "      <td>0</td>\n",
       "      <td>0</td>\n",
       "      <td>0</td>\n",
       "      <td>0</td>\n",
       "      <td>1</td>\n",
       "      <td>0</td>\n",
       "      <td>...</td>\n",
       "      <td>0</td>\n",
       "      <td>0</td>\n",
       "      <td>1</td>\n",
       "      <td>0</td>\n",
       "      <td>0</td>\n",
       "      <td>0</td>\n",
       "      <td>0</td>\n",
       "      <td>0</td>\n",
       "      <td>0</td>\n",
       "      <td>1</td>\n",
       "    </tr>\n",
       "    <tr>\n",
       "      <th>97</th>\n",
       "      <td>0</td>\n",
       "      <td>0</td>\n",
       "      <td>1</td>\n",
       "      <td>0</td>\n",
       "      <td>0</td>\n",
       "      <td>0</td>\n",
       "      <td>0</td>\n",
       "      <td>0</td>\n",
       "      <td>0</td>\n",
       "      <td>0</td>\n",
       "      <td>...</td>\n",
       "      <td>0</td>\n",
       "      <td>0</td>\n",
       "      <td>0</td>\n",
       "      <td>1</td>\n",
       "      <td>1</td>\n",
       "      <td>0</td>\n",
       "      <td>0</td>\n",
       "      <td>0</td>\n",
       "      <td>0</td>\n",
       "      <td>0</td>\n",
       "    </tr>\n",
       "    <tr>\n",
       "      <th>98</th>\n",
       "      <td>0</td>\n",
       "      <td>0</td>\n",
       "      <td>1</td>\n",
       "      <td>0</td>\n",
       "      <td>0</td>\n",
       "      <td>0</td>\n",
       "      <td>0</td>\n",
       "      <td>0</td>\n",
       "      <td>1</td>\n",
       "      <td>0</td>\n",
       "      <td>...</td>\n",
       "      <td>0</td>\n",
       "      <td>0</td>\n",
       "      <td>0</td>\n",
       "      <td>0</td>\n",
       "      <td>1</td>\n",
       "      <td>0</td>\n",
       "      <td>0</td>\n",
       "      <td>0</td>\n",
       "      <td>0</td>\n",
       "      <td>0</td>\n",
       "    </tr>\n",
       "    <tr>\n",
       "      <th>99</th>\n",
       "      <td>1</td>\n",
       "      <td>0</td>\n",
       "      <td>1</td>\n",
       "      <td>0</td>\n",
       "      <td>0</td>\n",
       "      <td>0</td>\n",
       "      <td>0</td>\n",
       "      <td>0</td>\n",
       "      <td>1</td>\n",
       "      <td>0</td>\n",
       "      <td>...</td>\n",
       "      <td>0</td>\n",
       "      <td>1</td>\n",
       "      <td>1</td>\n",
       "      <td>0</td>\n",
       "      <td>0</td>\n",
       "      <td>0</td>\n",
       "      <td>0</td>\n",
       "      <td>0</td>\n",
       "      <td>0</td>\n",
       "      <td>0</td>\n",
       "    </tr>\n",
       "  </tbody>\n",
       "</table>\n",
       "<p>5 rows × 167 columns</p>\n",
       "</div>"
      ],
      "text/plain": [
       "    idiom_english  idiom_chinese  idiom_spanish  idiom_french  idiom_german  \\\n",
       "95              1              0              0             0             0   \n",
       "96              0              0              1             0             0   \n",
       "97              0              0              1             0             0   \n",
       "98              0              0              1             0             0   \n",
       "99              1              0              1             0             0   \n",
       "\n",
       "    idiom_portuguese  programming_language_python  programming_language_java  \\\n",
       "95                 0                            0                          0   \n",
       "96                 0                            0                          0   \n",
       "97                 0                            0                          0   \n",
       "98                 0                            0                          0   \n",
       "99                 0                            0                          0   \n",
       "\n",
       "    programming_language_javascript  programming_language_c++  ...  \\\n",
       "95                                0                         0  ...   \n",
       "96                                1                         0  ...   \n",
       "97                                0                         0  ...   \n",
       "98                                1                         0  ...   \n",
       "99                                1                         0  ...   \n",
       "\n",
       "    database_memcached  database_microsoft azure sql database  \\\n",
       "95                   0                                      0   \n",
       "96                   0                                      0   \n",
       "97                   0                                      0   \n",
       "98                   0                                      0   \n",
       "99                   0                                      1   \n",
       "\n",
       "    project_preferences_base  project_preferences_backend  \\\n",
       "95                         0                            0   \n",
       "96                         1                            0   \n",
       "97                         0                            1   \n",
       "98                         0                            0   \n",
       "99                         1                            0   \n",
       "\n",
       "    project_preferences_mobile  project_preferences_web  \\\n",
       "95                           0                        0   \n",
       "96                           0                        0   \n",
       "97                           1                        0   \n",
       "98                           1                        0   \n",
       "99                           0                        0   \n",
       "\n",
       "    project_preferences_crypto  project_preferences_data_analitycs  \\\n",
       "95                           1                                   0   \n",
       "96                           0                                   0   \n",
       "97                           0                                   0   \n",
       "98                           0                                   0   \n",
       "99                           0                                   0   \n",
       "\n",
       "    project_preferences_data_science  project_preferences_data_engineering  \n",
       "95                                 0                                     1  \n",
       "96                                 0                                     1  \n",
       "97                                 0                                     0  \n",
       "98                                 0                                     0  \n",
       "99                                 0                                     0  \n",
       "\n",
       "[5 rows x 167 columns]"
      ]
     },
     "execution_count": 14,
     "metadata": {},
     "output_type": "execute_result"
    }
   ],
   "source": [
    "teams_input.tail()"
   ]
  },
  {
   "cell_type": "markdown",
   "id": "2a5a8a69",
   "metadata": {},
   "source": [
    "## Models"
   ]
  },
  {
   "cell_type": "code",
   "execution_count": 15,
   "id": "8912b227",
   "metadata": {},
   "outputs": [],
   "source": [
    "import pickle"
   ]
  },
  {
   "cell_type": "markdown",
   "id": "75072f85",
   "metadata": {},
   "source": [
    "### Exact model"
   ]
  },
  {
   "cell_type": "code",
   "execution_count": 16,
   "id": "95529e12",
   "metadata": {},
   "outputs": [],
   "source": [
    "from sklearn.neighbors import NearestNeighbors"
   ]
  },
  {
   "cell_type": "code",
   "execution_count": 17,
   "id": "498ee16a",
   "metadata": {},
   "outputs": [],
   "source": [
    "nbrs = NearestNeighbors(n_neighbors=5,  metric=\"cosine\")"
   ]
  },
  {
   "cell_type": "code",
   "execution_count": 18,
   "id": "c337acd6",
   "metadata": {
    "scrolled": true
   },
   "outputs": [
    {
     "name": "stdout",
     "output_type": "stream",
     "text": [
      "CPU times: user 2.73 ms, sys: 172 µs, total: 2.9 ms\n",
      "Wall time: 2.77 ms\n"
     ]
    },
    {
     "data": {
      "text/html": [
       "<style>#sk-3a8558e1-8dfa-4598-8deb-b180c2bed60a {color: black;background-color: white;}#sk-3a8558e1-8dfa-4598-8deb-b180c2bed60a pre{padding: 0;}#sk-3a8558e1-8dfa-4598-8deb-b180c2bed60a div.sk-toggleable {background-color: white;}#sk-3a8558e1-8dfa-4598-8deb-b180c2bed60a label.sk-toggleable__label {cursor: pointer;display: block;width: 100%;margin-bottom: 0;padding: 0.2em 0.3em;box-sizing: border-box;text-align: center;}#sk-3a8558e1-8dfa-4598-8deb-b180c2bed60a div.sk-toggleable__content {max-height: 0;max-width: 0;overflow: hidden;text-align: left;background-color: #f0f8ff;}#sk-3a8558e1-8dfa-4598-8deb-b180c2bed60a div.sk-toggleable__content pre {margin: 0.2em;color: black;border-radius: 0.25em;background-color: #f0f8ff;}#sk-3a8558e1-8dfa-4598-8deb-b180c2bed60a input.sk-toggleable__control:checked~div.sk-toggleable__content {max-height: 200px;max-width: 100%;overflow: auto;}#sk-3a8558e1-8dfa-4598-8deb-b180c2bed60a div.sk-estimator input.sk-toggleable__control:checked~label.sk-toggleable__label {background-color: #d4ebff;}#sk-3a8558e1-8dfa-4598-8deb-b180c2bed60a div.sk-label input.sk-toggleable__control:checked~label.sk-toggleable__label {background-color: #d4ebff;}#sk-3a8558e1-8dfa-4598-8deb-b180c2bed60a input.sk-hidden--visually {border: 0;clip: rect(1px 1px 1px 1px);clip: rect(1px, 1px, 1px, 1px);height: 1px;margin: -1px;overflow: hidden;padding: 0;position: absolute;width: 1px;}#sk-3a8558e1-8dfa-4598-8deb-b180c2bed60a div.sk-estimator {font-family: monospace;background-color: #f0f8ff;margin: 0.25em 0.25em;border: 1px dotted black;border-radius: 0.25em;box-sizing: border-box;}#sk-3a8558e1-8dfa-4598-8deb-b180c2bed60a div.sk-estimator:hover {background-color: #d4ebff;}#sk-3a8558e1-8dfa-4598-8deb-b180c2bed60a div.sk-parallel-item::after {content: \"\";width: 100%;border-bottom: 1px solid gray;flex-grow: 1;}#sk-3a8558e1-8dfa-4598-8deb-b180c2bed60a div.sk-label:hover label.sk-toggleable__label {background-color: #d4ebff;}#sk-3a8558e1-8dfa-4598-8deb-b180c2bed60a div.sk-serial::before {content: \"\";position: absolute;border-left: 1px solid gray;box-sizing: border-box;top: 2em;bottom: 0;left: 50%;}#sk-3a8558e1-8dfa-4598-8deb-b180c2bed60a div.sk-serial {display: flex;flex-direction: column;align-items: center;background-color: white;}#sk-3a8558e1-8dfa-4598-8deb-b180c2bed60a div.sk-item {z-index: 1;}#sk-3a8558e1-8dfa-4598-8deb-b180c2bed60a div.sk-parallel {display: flex;align-items: stretch;justify-content: center;background-color: white;}#sk-3a8558e1-8dfa-4598-8deb-b180c2bed60a div.sk-parallel-item {display: flex;flex-direction: column;position: relative;background-color: white;}#sk-3a8558e1-8dfa-4598-8deb-b180c2bed60a div.sk-parallel-item:first-child::after {align-self: flex-end;width: 50%;}#sk-3a8558e1-8dfa-4598-8deb-b180c2bed60a div.sk-parallel-item:last-child::after {align-self: flex-start;width: 50%;}#sk-3a8558e1-8dfa-4598-8deb-b180c2bed60a div.sk-parallel-item:only-child::after {width: 0;}#sk-3a8558e1-8dfa-4598-8deb-b180c2bed60a div.sk-dashed-wrapped {border: 1px dashed gray;margin: 0.2em;box-sizing: border-box;padding-bottom: 0.1em;background-color: white;position: relative;}#sk-3a8558e1-8dfa-4598-8deb-b180c2bed60a div.sk-label label {font-family: monospace;font-weight: bold;background-color: white;display: inline-block;line-height: 1.2em;}#sk-3a8558e1-8dfa-4598-8deb-b180c2bed60a div.sk-label-container {position: relative;z-index: 2;text-align: center;}#sk-3a8558e1-8dfa-4598-8deb-b180c2bed60a div.sk-container {display: inline-block;position: relative;}</style><div id=\"sk-3a8558e1-8dfa-4598-8deb-b180c2bed60a\" class\"sk-top-container\"><div class=\"sk-container\"><div class=\"sk-item\"><div class=\"sk-estimator sk-toggleable\"><input class=\"sk-toggleable__control sk-hidden--visually\" id=\"d7c7230d-fb0a-43a8-bb39-54b74072ecbe\" type=\"checkbox\" checked><label class=\"sk-toggleable__label\" for=\"d7c7230d-fb0a-43a8-bb39-54b74072ecbe\">NearestNeighbors</label><div class=\"sk-toggleable__content\"><pre>NearestNeighbors(metric='cosine')</pre></div></div></div></div></div>"
      ],
      "text/plain": [
       "NearestNeighbors(metric='cosine')"
      ]
     },
     "execution_count": 18,
     "metadata": {},
     "output_type": "execute_result"
    }
   ],
   "source": [
    "%%time\n",
    "nbrs.fit(teams_input)"
   ]
  },
  {
   "cell_type": "code",
   "execution_count": 19,
   "id": "6047b7d4",
   "metadata": {},
   "outputs": [],
   "source": [
    "pickle.dump(nbrs, open(\"nbrs\", 'wb'))"
   ]
  },
  {
   "cell_type": "markdown",
   "id": "4a5ebf67",
   "metadata": {},
   "source": [
    "### Approximate model (Spotify model)"
   ]
  },
  {
   "cell_type": "code",
   "execution_count": 20,
   "id": "4ea3a7d4",
   "metadata": {},
   "outputs": [],
   "source": [
    "from annoy import AnnoyIndex"
   ]
  },
  {
   "cell_type": "code",
   "execution_count": 21,
   "id": "5bd9c230",
   "metadata": {},
   "outputs": [
    {
     "name": "stdout",
     "output_type": "stream",
     "text": [
      "CPU times: user 33.3 ms, sys: 3.7 ms, total: 37 ms\n",
      "Wall time: 35.2 ms\n"
     ]
    },
    {
     "data": {
      "text/plain": [
       "True"
      ]
     },
     "execution_count": 21,
     "metadata": {},
     "output_type": "execute_result"
    }
   ],
   "source": [
    "%%time\n",
    "f = len(teams_input.columns)  # Length of item vector that will be indexed\n",
    "\n",
    "t = AnnoyIndex(f, 'angular')\n",
    "for index, row in teams_input.iterrows():\n",
    "    t.add_item(index, row)\n",
    "t.build(10) # 10 trees\n"
   ]
  },
  {
   "cell_type": "code",
   "execution_count": 22,
   "id": "1483bf69",
   "metadata": {},
   "outputs": [
    {
     "data": {
      "text/plain": [
       "True"
      ]
     },
     "execution_count": 22,
     "metadata": {},
     "output_type": "execute_result"
    }
   ],
   "source": [
    "t.save('test.ann')"
   ]
  },
  {
   "cell_type": "markdown",
   "id": "59ca4cbd",
   "metadata": {},
   "source": [
    "### Distance metric"
   ]
  },
  {
   "cell_type": "markdown",
   "id": "1a36da16",
   "metadata": {},
   "source": [
    "**Angular distance**: Mostly Cosine distance metric is used to find similarities between different documents. In cosine metric we measure the degree of angle between two vectors."
   ]
  },
  {
   "cell_type": "markdown",
   "id": "3767a47c",
   "metadata": {},
   "source": [
    "<img src=\"./cos.png\" alt=\"Alternative text\"  width=\"200\" height=\"100\"/>\n"
   ]
  },
  {
   "cell_type": "markdown",
   "id": "251531f9",
   "metadata": {},
   "source": [
    "## Matching "
   ]
  },
  {
   "cell_type": "code",
   "execution_count": 23,
   "id": "d0fde994",
   "metadata": {},
   "outputs": [],
   "source": [
    "nbrs = pickle.load(open(\"nbrs\", 'rb'))"
   ]
  },
  {
   "cell_type": "code",
   "execution_count": 24,
   "id": "d0f3cf1f",
   "metadata": {},
   "outputs": [
    {
     "data": {
      "text/plain": [
       "True"
      ]
     },
     "execution_count": 24,
     "metadata": {},
     "output_type": "execute_result"
    }
   ],
   "source": [
    "f = len(teams_input.columns)\n",
    "annoy = AnnoyIndex(f, 'angular')\n",
    "annoy.load('test.ann') "
   ]
  },
  {
   "cell_type": "markdown",
   "id": "c3405db2",
   "metadata": {},
   "source": [
    "### Search similar teams of ideal team"
   ]
  },
  {
   "cell_type": "code",
   "execution_count": 25,
   "id": "e7ed977d",
   "metadata": {},
   "outputs": [],
   "source": [
    "k = 3 #neighbors amount\n",
    "v = ideal_team_input.iloc[0] # vector representation of ideal team"
   ]
  },
  {
   "cell_type": "code",
   "execution_count": 26,
   "id": "63864035",
   "metadata": {},
   "outputs": [
    {
     "name": "stdout",
     "output_type": "stream",
     "text": [
      "CPU times: user 5.34 ms, sys: 2.26 ms, total: 7.6 ms\n",
      "Wall time: 7.89 ms\n"
     ]
    }
   ],
   "source": [
    "%%time\n",
    "distances_nbrs, neighbors_nbrs = nbrs.kneighbors([v], k, return_distance=True)"
   ]
  },
  {
   "cell_type": "code",
   "execution_count": 27,
   "id": "6a44bb2b",
   "metadata": {},
   "outputs": [
    {
     "data": {
      "text/html": [
       "<div>\n",
       "<style scoped>\n",
       "    .dataframe tbody tr th:only-of-type {\n",
       "        vertical-align: middle;\n",
       "    }\n",
       "\n",
       "    .dataframe tbody tr th {\n",
       "        vertical-align: top;\n",
       "    }\n",
       "\n",
       "    .dataframe thead th {\n",
       "        text-align: right;\n",
       "    }\n",
       "</style>\n",
       "<table border=\"1\" class=\"dataframe\">\n",
       "  <thead>\n",
       "    <tr style=\"text-align: right;\">\n",
       "      <th></th>\n",
       "      <th>neighbors</th>\n",
       "      <th>distances</th>\n",
       "    </tr>\n",
       "  </thead>\n",
       "  <tbody>\n",
       "    <tr>\n",
       "      <th>0</th>\n",
       "      <td>27</td>\n",
       "      <td>0.292893</td>\n",
       "    </tr>\n",
       "    <tr>\n",
       "      <th>1</th>\n",
       "      <td>23</td>\n",
       "      <td>0.403715</td>\n",
       "    </tr>\n",
       "    <tr>\n",
       "      <th>2</th>\n",
       "      <td>4</td>\n",
       "      <td>0.460640</td>\n",
       "    </tr>\n",
       "  </tbody>\n",
       "</table>\n",
       "</div>"
      ],
      "text/plain": [
       "   neighbors  distances\n",
       "0         27   0.292893\n",
       "1         23   0.403715\n",
       "2          4   0.460640"
      ]
     },
     "execution_count": 27,
     "metadata": {},
     "output_type": "execute_result"
    }
   ],
   "source": [
    "results_nbrs = pd.DataFrame.from_dict({\"neighbors\": neighbors_nbrs[0], \"distances\": distances_nbrs[0]}) \n",
    "results_nbrs.head()"
   ]
  },
  {
   "cell_type": "code",
   "execution_count": 28,
   "id": "991eb7f5",
   "metadata": {},
   "outputs": [
    {
     "name": "stdout",
     "output_type": "stream",
     "text": [
      "CPU times: user 1.75 ms, sys: 763 µs, total: 2.51 ms\n",
      "Wall time: 2.43 ms\n"
     ]
    }
   ],
   "source": [
    "%%time\n",
    "neighbors_annoy, distances_annoy  = annoy.get_nns_by_vector(v, k, search_k=-1, include_distances=True)"
   ]
  },
  {
   "cell_type": "code",
   "execution_count": 29,
   "id": "9a746606",
   "metadata": {},
   "outputs": [
    {
     "data": {
      "text/html": [
       "<div>\n",
       "<style scoped>\n",
       "    .dataframe tbody tr th:only-of-type {\n",
       "        vertical-align: middle;\n",
       "    }\n",
       "\n",
       "    .dataframe tbody tr th {\n",
       "        vertical-align: top;\n",
       "    }\n",
       "\n",
       "    .dataframe thead th {\n",
       "        text-align: right;\n",
       "    }\n",
       "</style>\n",
       "<table border=\"1\" class=\"dataframe\">\n",
       "  <thead>\n",
       "    <tr style=\"text-align: right;\">\n",
       "      <th></th>\n",
       "      <th>neighbors</th>\n",
       "      <th>distances</th>\n",
       "    </tr>\n",
       "  </thead>\n",
       "  <tbody>\n",
       "    <tr>\n",
       "      <th>0</th>\n",
       "      <td>27</td>\n",
       "      <td>0.765367</td>\n",
       "    </tr>\n",
       "    <tr>\n",
       "      <th>1</th>\n",
       "      <td>23</td>\n",
       "      <td>0.898571</td>\n",
       "    </tr>\n",
       "    <tr>\n",
       "      <th>2</th>\n",
       "      <td>4</td>\n",
       "      <td>0.959833</td>\n",
       "    </tr>\n",
       "  </tbody>\n",
       "</table>\n",
       "</div>"
      ],
      "text/plain": [
       "   neighbors  distances\n",
       "0         27   0.765367\n",
       "1         23   0.898571\n",
       "2          4   0.959833"
      ]
     },
     "execution_count": 29,
     "metadata": {},
     "output_type": "execute_result"
    }
   ],
   "source": [
    "results_annoy = pd.DataFrame.from_dict({\"neighbors\": neighbors_annoy, \"distances\": distances_annoy}) \n",
    "results_annoy.head()"
   ]
  },
  {
   "cell_type": "markdown",
   "id": "8e6e558d",
   "metadata": {},
   "source": [
    "### Results"
   ]
  },
  {
   "cell_type": "code",
   "execution_count": 30,
   "id": "73b8edb5",
   "metadata": {},
   "outputs": [],
   "source": [
    "from utils import print_team, print_teams_recommendation"
   ]
  },
  {
   "cell_type": "markdown",
   "id": "055256ff",
   "metadata": {},
   "source": [
    "#### Project"
   ]
  },
  {
   "cell_type": "code",
   "execution_count": 31,
   "id": "ba4083e1",
   "metadata": {},
   "outputs": [
    {
     "name": "stdout",
     "output_type": "stream",
     "text": [
      "type index: <class 'int'>\n",
      "project_type: ['backend'] \n",
      "idioms:  ['English']\n",
      "programming_language:  ['Python']\n",
      "frameworks:  ['Django']\n",
      "databases:  ['PostgreSQL']\n",
      "platforms:  []\n"
     ]
    }
   ],
   "source": [
    "print_team(ideal_team_df)"
   ]
  },
  {
   "cell_type": "markdown",
   "id": "b10ce215",
   "metadata": {},
   "source": [
    "#### Exact model recommendations"
   ]
  },
  {
   "cell_type": "code",
   "execution_count": 32,
   "id": "46f1b45b",
   "metadata": {},
   "outputs": [
    {
     "name": "stdout",
     "output_type": "stream",
     "text": [
      "Rank 1º - Team 27\n",
      "type index: <class 'int'>\n",
      "project_type: ['backend', 'data_engineering'] \n",
      "idioms:  ['English']\n",
      "programming_language:  ['Python', 'Java']\n",
      "frameworks:  ['Spring', 'Django']\n",
      "databases:  ['Solr', 'PostgreSQL']\n",
      "platforms:  ['Strikingly']\n",
      "\n",
      "\n",
      "Rank 2º - Team 23\n",
      "type index: <class 'int'>\n",
      "project_type: ['data_science', 'mobile'] \n",
      "idioms:  ['English']\n",
      "programming_language:  ['Python']\n",
      "frameworks:  ['Django']\n",
      "databases:  ['HBase', 'MariaDB', 'PostgreSQL']\n",
      "platforms:  ['Jimdo Creator']\n",
      "\n",
      "\n",
      "Rank 3º - Team 4\n",
      "type index: <class 'int'>\n",
      "project_type: ['data_science', 'backend'] \n",
      "idioms:  ['Spanish', 'English']\n",
      "programming_language:  ['Python', 'Java']\n",
      "frameworks:  ['Spring', 'Django']\n",
      "databases:  ['Elasticsearch', 'Redis']\n",
      "platforms:  ['Zyro']\n",
      "\n",
      "\n"
     ]
    }
   ],
   "source": [
    "print_teams_recommendation(teams_df, results_nbrs[\"neighbors\"])"
   ]
  },
  {
   "cell_type": "markdown",
   "id": "780b24ac",
   "metadata": {},
   "source": [
    "#### Approximate model recommendations\n"
   ]
  },
  {
   "cell_type": "code",
   "execution_count": 33,
   "id": "be1ecc36",
   "metadata": {
    "scrolled": false
   },
   "outputs": [
    {
     "name": "stdout",
     "output_type": "stream",
     "text": [
      "Rank 1º - Team 27\n",
      "type index: <class 'int'>\n",
      "project_type: ['backend', 'data_engineering'] \n",
      "idioms:  ['English']\n",
      "programming_language:  ['Python', 'Java']\n",
      "frameworks:  ['Spring', 'Django']\n",
      "databases:  ['Solr', 'PostgreSQL']\n",
      "platforms:  ['Strikingly']\n",
      "\n",
      "\n",
      "Rank 2º - Team 23\n",
      "type index: <class 'int'>\n",
      "project_type: ['data_science', 'mobile'] \n",
      "idioms:  ['English']\n",
      "programming_language:  ['Python']\n",
      "frameworks:  ['Django']\n",
      "databases:  ['HBase', 'MariaDB', 'PostgreSQL']\n",
      "platforms:  ['Jimdo Creator']\n",
      "\n",
      "\n",
      "Rank 3º - Team 4\n",
      "type index: <class 'int'>\n",
      "project_type: ['data_science', 'backend'] \n",
      "idioms:  ['Spanish', 'English']\n",
      "programming_language:  ['Python', 'Java']\n",
      "frameworks:  ['Spring', 'Django']\n",
      "databases:  ['Elasticsearch', 'Redis']\n",
      "platforms:  ['Zyro']\n",
      "\n",
      "\n"
     ]
    }
   ],
   "source": [
    "print_teams_recommendation(teams_df, results_annoy[\"neighbors\"])"
   ]
  },
  {
   "cell_type": "markdown",
   "id": "3f917bae",
   "metadata": {},
   "source": [
    "## Benchmarks "
   ]
  },
  {
   "cell_type": "markdown",
   "id": "6cbb347b",
   "metadata": {},
   "source": [
    "### Training"
   ]
  },
  {
   "cell_type": "code",
   "execution_count": 133,
   "id": "b328c6ab",
   "metadata": {},
   "outputs": [],
   "source": [
    "args = {\n",
    "    \"teams_amout\": 100,\n",
    "    \"max_programming_languages\": 4 ,\n",
    "    \"max_frameworks\": 3 ,\n",
    "    \"max_platforms\": 1,\n",
    "    \"max_databases\": 3,\n",
    "    \"max_idioms\": 2,\n",
    "    \"max_project_preferences\": 2\n",
    "}   \n"
   ]
  },
  {
   "cell_type": "code",
   "execution_count": 144,
   "id": "69e0afc7",
   "metadata": {},
   "outputs": [],
   "source": [
    "args['teams_amout'] = 1000\n",
    "factory = TeamsFactory(**args)\n",
    "sample_1000 = factory.create_teams()\n",
    "teams_df_1000 = pd.DataFrame(sample_1000)\n",
    "\n",
    "args['teams_amout'] = 10000\n",
    "factory = TeamsFactory(**args)\n",
    "sample_10000 = factory.create_teams()\n",
    "teams_df_10000 = pd.DataFrame(sample_10000)\n",
    "\n",
    "args['teams_amout'] = 100000\n",
    "factory = TeamsFactory(**args)\n",
    "sample_100000 = factory.create_teams()\n",
    "teams_df_100000 = pd.DataFrame(sample_100000)\n",
    "\n",
    "args['teams_amout'] = 1000000\n",
    "factory = TeamsFactory(**args)\n",
    "sample_1000000 = factory.create_teams()\n",
    "teams_df_1000000 = pd.DataFrame(sample_1000000)"
   ]
  },
  {
   "cell_type": "code",
   "execution_count": 146,
   "id": "370e83e1",
   "metadata": {
    "collapsed": true
   },
   "outputs": [
    {
     "name": "stdout",
     "output_type": "stream",
     "text": [
      "type: <class 'dict'>\n",
      "type: <class 'dict'>\n"
     ]
    },
    {
     "name": "stderr",
     "output_type": "stream",
     "text": [
      "/Users/matifonseca/Workspace/FindMyTeam/Models/pipeline_transformations.py:63: PerformanceWarning: DataFrame is highly fragmented.  This is usually the result of calling `frame.insert` many times, which has poor performance.  Consider joining all columns at once using pd.concat(axis=1) instead. To get a de-fragmented frame, use `newframe = frame.copy()`\n",
      "  X[f\"programming_language_{language}\"] = X[\"programming_language\"].map(lambda languages_i: 1 if value_in(language, languages_i) else 0)\n",
      "/Users/matifonseca/Workspace/FindMyTeam/Models/pipeline_transformations.py:63: PerformanceWarning: DataFrame is highly fragmented.  This is usually the result of calling `frame.insert` many times, which has poor performance.  Consider joining all columns at once using pd.concat(axis=1) instead. To get a de-fragmented frame, use `newframe = frame.copy()`\n",
      "  X[f\"programming_language_{language}\"] = X[\"programming_language\"].map(lambda languages_i: 1 if value_in(language, languages_i) else 0)\n",
      "/Users/matifonseca/Workspace/FindMyTeam/Models/pipeline_transformations.py:63: PerformanceWarning: DataFrame is highly fragmented.  This is usually the result of calling `frame.insert` many times, which has poor performance.  Consider joining all columns at once using pd.concat(axis=1) instead. To get a de-fragmented frame, use `newframe = frame.copy()`\n",
      "  X[f\"programming_language_{language}\"] = X[\"programming_language\"].map(lambda languages_i: 1 if value_in(language, languages_i) else 0)\n",
      "/Users/matifonseca/Workspace/FindMyTeam/Models/pipeline_transformations.py:63: PerformanceWarning: DataFrame is highly fragmented.  This is usually the result of calling `frame.insert` many times, which has poor performance.  Consider joining all columns at once using pd.concat(axis=1) instead. To get a de-fragmented frame, use `newframe = frame.copy()`\n",
      "  X[f\"programming_language_{language}\"] = X[\"programming_language\"].map(lambda languages_i: 1 if value_in(language, languages_i) else 0)\n"
     ]
    },
    {
     "name": "stdout",
     "output_type": "stream",
     "text": [
      "type: <class 'dict'>\n"
     ]
    },
    {
     "name": "stderr",
     "output_type": "stream",
     "text": [
      "/Users/matifonseca/Workspace/FindMyTeam/Models/pipeline_transformations.py:63: PerformanceWarning: DataFrame is highly fragmented.  This is usually the result of calling `frame.insert` many times, which has poor performance.  Consider joining all columns at once using pd.concat(axis=1) instead. To get a de-fragmented frame, use `newframe = frame.copy()`\n",
      "  X[f\"programming_language_{language}\"] = X[\"programming_language\"].map(lambda languages_i: 1 if value_in(language, languages_i) else 0)\n",
      "/Users/matifonseca/Workspace/FindMyTeam/Models/pipeline_transformations.py:63: PerformanceWarning: DataFrame is highly fragmented.  This is usually the result of calling `frame.insert` many times, which has poor performance.  Consider joining all columns at once using pd.concat(axis=1) instead. To get a de-fragmented frame, use `newframe = frame.copy()`\n",
      "  X[f\"programming_language_{language}\"] = X[\"programming_language\"].map(lambda languages_i: 1 if value_in(language, languages_i) else 0)\n"
     ]
    },
    {
     "name": "stdout",
     "output_type": "stream",
     "text": [
      "type: <class 'dict'>\n"
     ]
    },
    {
     "name": "stderr",
     "output_type": "stream",
     "text": [
      "/Users/matifonseca/Workspace/FindMyTeam/Models/pipeline_transformations.py:63: PerformanceWarning: DataFrame is highly fragmented.  This is usually the result of calling `frame.insert` many times, which has poor performance.  Consider joining all columns at once using pd.concat(axis=1) instead. To get a de-fragmented frame, use `newframe = frame.copy()`\n",
      "  X[f\"programming_language_{language}\"] = X[\"programming_language\"].map(lambda languages_i: 1 if value_in(language, languages_i) else 0)\n",
      "/Users/matifonseca/Workspace/FindMyTeam/Models/pipeline_transformations.py:63: PerformanceWarning: DataFrame is highly fragmented.  This is usually the result of calling `frame.insert` many times, which has poor performance.  Consider joining all columns at once using pd.concat(axis=1) instead. To get a de-fragmented frame, use `newframe = frame.copy()`\n",
      "  X[f\"programming_language_{language}\"] = X[\"programming_language\"].map(lambda languages_i: 1 if value_in(language, languages_i) else 0)\n"
     ]
    }
   ],
   "source": [
    "teams_df_1000_input = pipeline.transform(teams_df_1000)\n",
    "teams_df_10000_input = pipeline.transform(teams_df_10000)\n",
    "teams_df_100000_input = pipeline.transform(teams_df_100000)\n",
    "teams_df_1000000_input = pipeline.transform(teams_df_1000000)"
   ]
  },
  {
   "cell_type": "markdown",
   "id": "00b07b1e",
   "metadata": {},
   "source": [
    "### Exact model "
   ]
  },
  {
   "cell_type": "code",
   "execution_count": 147,
   "id": "14772492",
   "metadata": {},
   "outputs": [
    {
     "name": "stdout",
     "output_type": "stream",
     "text": [
      "CPU times: user 2 µs, sys: 1e+03 ns, total: 3 µs\n",
      "Wall time: 6.91 µs\n"
     ]
    },
    {
     "data": {
      "text/html": [
       "<style>#sk-d8de57ed-3722-40da-94a4-153881ea3d03 {color: black;background-color: white;}#sk-d8de57ed-3722-40da-94a4-153881ea3d03 pre{padding: 0;}#sk-d8de57ed-3722-40da-94a4-153881ea3d03 div.sk-toggleable {background-color: white;}#sk-d8de57ed-3722-40da-94a4-153881ea3d03 label.sk-toggleable__label {cursor: pointer;display: block;width: 100%;margin-bottom: 0;padding: 0.2em 0.3em;box-sizing: border-box;text-align: center;}#sk-d8de57ed-3722-40da-94a4-153881ea3d03 div.sk-toggleable__content {max-height: 0;max-width: 0;overflow: hidden;text-align: left;background-color: #f0f8ff;}#sk-d8de57ed-3722-40da-94a4-153881ea3d03 div.sk-toggleable__content pre {margin: 0.2em;color: black;border-radius: 0.25em;background-color: #f0f8ff;}#sk-d8de57ed-3722-40da-94a4-153881ea3d03 input.sk-toggleable__control:checked~div.sk-toggleable__content {max-height: 200px;max-width: 100%;overflow: auto;}#sk-d8de57ed-3722-40da-94a4-153881ea3d03 div.sk-estimator input.sk-toggleable__control:checked~label.sk-toggleable__label {background-color: #d4ebff;}#sk-d8de57ed-3722-40da-94a4-153881ea3d03 div.sk-label input.sk-toggleable__control:checked~label.sk-toggleable__label {background-color: #d4ebff;}#sk-d8de57ed-3722-40da-94a4-153881ea3d03 input.sk-hidden--visually {border: 0;clip: rect(1px 1px 1px 1px);clip: rect(1px, 1px, 1px, 1px);height: 1px;margin: -1px;overflow: hidden;padding: 0;position: absolute;width: 1px;}#sk-d8de57ed-3722-40da-94a4-153881ea3d03 div.sk-estimator {font-family: monospace;background-color: #f0f8ff;margin: 0.25em 0.25em;border: 1px dotted black;border-radius: 0.25em;box-sizing: border-box;}#sk-d8de57ed-3722-40da-94a4-153881ea3d03 div.sk-estimator:hover {background-color: #d4ebff;}#sk-d8de57ed-3722-40da-94a4-153881ea3d03 div.sk-parallel-item::after {content: \"\";width: 100%;border-bottom: 1px solid gray;flex-grow: 1;}#sk-d8de57ed-3722-40da-94a4-153881ea3d03 div.sk-label:hover label.sk-toggleable__label {background-color: #d4ebff;}#sk-d8de57ed-3722-40da-94a4-153881ea3d03 div.sk-serial::before {content: \"\";position: absolute;border-left: 1px solid gray;box-sizing: border-box;top: 2em;bottom: 0;left: 50%;}#sk-d8de57ed-3722-40da-94a4-153881ea3d03 div.sk-serial {display: flex;flex-direction: column;align-items: center;background-color: white;}#sk-d8de57ed-3722-40da-94a4-153881ea3d03 div.sk-item {z-index: 1;}#sk-d8de57ed-3722-40da-94a4-153881ea3d03 div.sk-parallel {display: flex;align-items: stretch;justify-content: center;background-color: white;}#sk-d8de57ed-3722-40da-94a4-153881ea3d03 div.sk-parallel-item {display: flex;flex-direction: column;position: relative;background-color: white;}#sk-d8de57ed-3722-40da-94a4-153881ea3d03 div.sk-parallel-item:first-child::after {align-self: flex-end;width: 50%;}#sk-d8de57ed-3722-40da-94a4-153881ea3d03 div.sk-parallel-item:last-child::after {align-self: flex-start;width: 50%;}#sk-d8de57ed-3722-40da-94a4-153881ea3d03 div.sk-parallel-item:only-child::after {width: 0;}#sk-d8de57ed-3722-40da-94a4-153881ea3d03 div.sk-dashed-wrapped {border: 1px dashed gray;margin: 0.2em;box-sizing: border-box;padding-bottom: 0.1em;background-color: white;position: relative;}#sk-d8de57ed-3722-40da-94a4-153881ea3d03 div.sk-label label {font-family: monospace;font-weight: bold;background-color: white;display: inline-block;line-height: 1.2em;}#sk-d8de57ed-3722-40da-94a4-153881ea3d03 div.sk-label-container {position: relative;z-index: 2;text-align: center;}#sk-d8de57ed-3722-40da-94a4-153881ea3d03 div.sk-container {display: inline-block;position: relative;}</style><div id=\"sk-d8de57ed-3722-40da-94a4-153881ea3d03\" class\"sk-top-container\"><div class=\"sk-container\"><div class=\"sk-item\"><div class=\"sk-estimator sk-toggleable\"><input class=\"sk-toggleable__control sk-hidden--visually\" id=\"846678b9-7c4e-45c0-93d2-010402a813ff\" type=\"checkbox\" checked><label class=\"sk-toggleable__label\" for=\"846678b9-7c4e-45c0-93d2-010402a813ff\">NearestNeighbors</label><div class=\"sk-toggleable__content\"><pre>NearestNeighbors(metric='cosine')</pre></div></div></div></div></div>"
      ],
      "text/plain": [
       "NearestNeighbors(metric='cosine')"
      ]
     },
     "execution_count": 147,
     "metadata": {},
     "output_type": "execute_result"
    }
   ],
   "source": [
    "%time\n",
    "nbrs_1000 = NearestNeighbors(n_neighbors=5,  metric=\"cosine\")\n",
    "nbrs_1000.fit(teams_df_1000_input)"
   ]
  },
  {
   "cell_type": "code",
   "execution_count": 148,
   "id": "abbc79d8",
   "metadata": {},
   "outputs": [
    {
     "name": "stdout",
     "output_type": "stream",
     "text": [
      "CPU times: user 3 µs, sys: 1 µs, total: 4 µs\n",
      "Wall time: 7.87 µs\n"
     ]
    },
    {
     "data": {
      "text/html": [
       "<style>#sk-9da4b070-5632-4086-8796-00f835100ead {color: black;background-color: white;}#sk-9da4b070-5632-4086-8796-00f835100ead pre{padding: 0;}#sk-9da4b070-5632-4086-8796-00f835100ead div.sk-toggleable {background-color: white;}#sk-9da4b070-5632-4086-8796-00f835100ead label.sk-toggleable__label {cursor: pointer;display: block;width: 100%;margin-bottom: 0;padding: 0.2em 0.3em;box-sizing: border-box;text-align: center;}#sk-9da4b070-5632-4086-8796-00f835100ead div.sk-toggleable__content {max-height: 0;max-width: 0;overflow: hidden;text-align: left;background-color: #f0f8ff;}#sk-9da4b070-5632-4086-8796-00f835100ead div.sk-toggleable__content pre {margin: 0.2em;color: black;border-radius: 0.25em;background-color: #f0f8ff;}#sk-9da4b070-5632-4086-8796-00f835100ead input.sk-toggleable__control:checked~div.sk-toggleable__content {max-height: 200px;max-width: 100%;overflow: auto;}#sk-9da4b070-5632-4086-8796-00f835100ead div.sk-estimator input.sk-toggleable__control:checked~label.sk-toggleable__label {background-color: #d4ebff;}#sk-9da4b070-5632-4086-8796-00f835100ead div.sk-label input.sk-toggleable__control:checked~label.sk-toggleable__label {background-color: #d4ebff;}#sk-9da4b070-5632-4086-8796-00f835100ead input.sk-hidden--visually {border: 0;clip: rect(1px 1px 1px 1px);clip: rect(1px, 1px, 1px, 1px);height: 1px;margin: -1px;overflow: hidden;padding: 0;position: absolute;width: 1px;}#sk-9da4b070-5632-4086-8796-00f835100ead div.sk-estimator {font-family: monospace;background-color: #f0f8ff;margin: 0.25em 0.25em;border: 1px dotted black;border-radius: 0.25em;box-sizing: border-box;}#sk-9da4b070-5632-4086-8796-00f835100ead div.sk-estimator:hover {background-color: #d4ebff;}#sk-9da4b070-5632-4086-8796-00f835100ead div.sk-parallel-item::after {content: \"\";width: 100%;border-bottom: 1px solid gray;flex-grow: 1;}#sk-9da4b070-5632-4086-8796-00f835100ead div.sk-label:hover label.sk-toggleable__label {background-color: #d4ebff;}#sk-9da4b070-5632-4086-8796-00f835100ead div.sk-serial::before {content: \"\";position: absolute;border-left: 1px solid gray;box-sizing: border-box;top: 2em;bottom: 0;left: 50%;}#sk-9da4b070-5632-4086-8796-00f835100ead div.sk-serial {display: flex;flex-direction: column;align-items: center;background-color: white;}#sk-9da4b070-5632-4086-8796-00f835100ead div.sk-item {z-index: 1;}#sk-9da4b070-5632-4086-8796-00f835100ead div.sk-parallel {display: flex;align-items: stretch;justify-content: center;background-color: white;}#sk-9da4b070-5632-4086-8796-00f835100ead div.sk-parallel-item {display: flex;flex-direction: column;position: relative;background-color: white;}#sk-9da4b070-5632-4086-8796-00f835100ead div.sk-parallel-item:first-child::after {align-self: flex-end;width: 50%;}#sk-9da4b070-5632-4086-8796-00f835100ead div.sk-parallel-item:last-child::after {align-self: flex-start;width: 50%;}#sk-9da4b070-5632-4086-8796-00f835100ead div.sk-parallel-item:only-child::after {width: 0;}#sk-9da4b070-5632-4086-8796-00f835100ead div.sk-dashed-wrapped {border: 1px dashed gray;margin: 0.2em;box-sizing: border-box;padding-bottom: 0.1em;background-color: white;position: relative;}#sk-9da4b070-5632-4086-8796-00f835100ead div.sk-label label {font-family: monospace;font-weight: bold;background-color: white;display: inline-block;line-height: 1.2em;}#sk-9da4b070-5632-4086-8796-00f835100ead div.sk-label-container {position: relative;z-index: 2;text-align: center;}#sk-9da4b070-5632-4086-8796-00f835100ead div.sk-container {display: inline-block;position: relative;}</style><div id=\"sk-9da4b070-5632-4086-8796-00f835100ead\" class\"sk-top-container\"><div class=\"sk-container\"><div class=\"sk-item\"><div class=\"sk-estimator sk-toggleable\"><input class=\"sk-toggleable__control sk-hidden--visually\" id=\"e8dc3918-24b8-47fe-9459-9f1d1c6a8ab1\" type=\"checkbox\" checked><label class=\"sk-toggleable__label\" for=\"e8dc3918-24b8-47fe-9459-9f1d1c6a8ab1\">NearestNeighbors</label><div class=\"sk-toggleable__content\"><pre>NearestNeighbors(metric='cosine')</pre></div></div></div></div></div>"
      ],
      "text/plain": [
       "NearestNeighbors(metric='cosine')"
      ]
     },
     "execution_count": 148,
     "metadata": {},
     "output_type": "execute_result"
    }
   ],
   "source": [
    "%time\n",
    "nbrs_10000 = NearestNeighbors(n_neighbors=5,  metric=\"cosine\")\n",
    "nbrs_10000.fit(teams_df_10000_input)"
   ]
  },
  {
   "cell_type": "code",
   "execution_count": 149,
   "id": "1c8c217a",
   "metadata": {},
   "outputs": [
    {
     "name": "stdout",
     "output_type": "stream",
     "text": [
      "CPU times: user 5 µs, sys: 1e+03 ns, total: 6 µs\n",
      "Wall time: 10 µs\n"
     ]
    },
    {
     "data": {
      "text/html": [
       "<style>#sk-144ac47f-8538-4fab-a573-f8d476f09aad {color: black;background-color: white;}#sk-144ac47f-8538-4fab-a573-f8d476f09aad pre{padding: 0;}#sk-144ac47f-8538-4fab-a573-f8d476f09aad div.sk-toggleable {background-color: white;}#sk-144ac47f-8538-4fab-a573-f8d476f09aad label.sk-toggleable__label {cursor: pointer;display: block;width: 100%;margin-bottom: 0;padding: 0.2em 0.3em;box-sizing: border-box;text-align: center;}#sk-144ac47f-8538-4fab-a573-f8d476f09aad div.sk-toggleable__content {max-height: 0;max-width: 0;overflow: hidden;text-align: left;background-color: #f0f8ff;}#sk-144ac47f-8538-4fab-a573-f8d476f09aad div.sk-toggleable__content pre {margin: 0.2em;color: black;border-radius: 0.25em;background-color: #f0f8ff;}#sk-144ac47f-8538-4fab-a573-f8d476f09aad input.sk-toggleable__control:checked~div.sk-toggleable__content {max-height: 200px;max-width: 100%;overflow: auto;}#sk-144ac47f-8538-4fab-a573-f8d476f09aad div.sk-estimator input.sk-toggleable__control:checked~label.sk-toggleable__label {background-color: #d4ebff;}#sk-144ac47f-8538-4fab-a573-f8d476f09aad div.sk-label input.sk-toggleable__control:checked~label.sk-toggleable__label {background-color: #d4ebff;}#sk-144ac47f-8538-4fab-a573-f8d476f09aad input.sk-hidden--visually {border: 0;clip: rect(1px 1px 1px 1px);clip: rect(1px, 1px, 1px, 1px);height: 1px;margin: -1px;overflow: hidden;padding: 0;position: absolute;width: 1px;}#sk-144ac47f-8538-4fab-a573-f8d476f09aad div.sk-estimator {font-family: monospace;background-color: #f0f8ff;margin: 0.25em 0.25em;border: 1px dotted black;border-radius: 0.25em;box-sizing: border-box;}#sk-144ac47f-8538-4fab-a573-f8d476f09aad div.sk-estimator:hover {background-color: #d4ebff;}#sk-144ac47f-8538-4fab-a573-f8d476f09aad div.sk-parallel-item::after {content: \"\";width: 100%;border-bottom: 1px solid gray;flex-grow: 1;}#sk-144ac47f-8538-4fab-a573-f8d476f09aad div.sk-label:hover label.sk-toggleable__label {background-color: #d4ebff;}#sk-144ac47f-8538-4fab-a573-f8d476f09aad div.sk-serial::before {content: \"\";position: absolute;border-left: 1px solid gray;box-sizing: border-box;top: 2em;bottom: 0;left: 50%;}#sk-144ac47f-8538-4fab-a573-f8d476f09aad div.sk-serial {display: flex;flex-direction: column;align-items: center;background-color: white;}#sk-144ac47f-8538-4fab-a573-f8d476f09aad div.sk-item {z-index: 1;}#sk-144ac47f-8538-4fab-a573-f8d476f09aad div.sk-parallel {display: flex;align-items: stretch;justify-content: center;background-color: white;}#sk-144ac47f-8538-4fab-a573-f8d476f09aad div.sk-parallel-item {display: flex;flex-direction: column;position: relative;background-color: white;}#sk-144ac47f-8538-4fab-a573-f8d476f09aad div.sk-parallel-item:first-child::after {align-self: flex-end;width: 50%;}#sk-144ac47f-8538-4fab-a573-f8d476f09aad div.sk-parallel-item:last-child::after {align-self: flex-start;width: 50%;}#sk-144ac47f-8538-4fab-a573-f8d476f09aad div.sk-parallel-item:only-child::after {width: 0;}#sk-144ac47f-8538-4fab-a573-f8d476f09aad div.sk-dashed-wrapped {border: 1px dashed gray;margin: 0.2em;box-sizing: border-box;padding-bottom: 0.1em;background-color: white;position: relative;}#sk-144ac47f-8538-4fab-a573-f8d476f09aad div.sk-label label {font-family: monospace;font-weight: bold;background-color: white;display: inline-block;line-height: 1.2em;}#sk-144ac47f-8538-4fab-a573-f8d476f09aad div.sk-label-container {position: relative;z-index: 2;text-align: center;}#sk-144ac47f-8538-4fab-a573-f8d476f09aad div.sk-container {display: inline-block;position: relative;}</style><div id=\"sk-144ac47f-8538-4fab-a573-f8d476f09aad\" class\"sk-top-container\"><div class=\"sk-container\"><div class=\"sk-item\"><div class=\"sk-estimator sk-toggleable\"><input class=\"sk-toggleable__control sk-hidden--visually\" id=\"64c27d17-8de4-4cd5-86cc-f2ee8088ff09\" type=\"checkbox\" checked><label class=\"sk-toggleable__label\" for=\"64c27d17-8de4-4cd5-86cc-f2ee8088ff09\">NearestNeighbors</label><div class=\"sk-toggleable__content\"><pre>NearestNeighbors(metric='cosine')</pre></div></div></div></div></div>"
      ],
      "text/plain": [
       "NearestNeighbors(metric='cosine')"
      ]
     },
     "execution_count": 149,
     "metadata": {},
     "output_type": "execute_result"
    }
   ],
   "source": [
    "%time\n",
    "nbrs_100000 = NearestNeighbors(n_neighbors=5,  metric=\"cosine\")\n",
    "nbrs_100000.fit(teams_df_100000_input)"
   ]
  },
  {
   "cell_type": "code",
   "execution_count": 151,
   "id": "82140d12",
   "metadata": {
    "scrolled": false
   },
   "outputs": [
    {
     "name": "stdout",
     "output_type": "stream",
     "text": [
      "CPU times: user 3 µs, sys: 0 ns, total: 3 µs\n",
      "Wall time: 7.15 µs\n"
     ]
    },
    {
     "data": {
      "text/html": [
       "<style>#sk-5143ef23-4e82-44b2-b3b8-dbd5d0bd06e0 {color: black;background-color: white;}#sk-5143ef23-4e82-44b2-b3b8-dbd5d0bd06e0 pre{padding: 0;}#sk-5143ef23-4e82-44b2-b3b8-dbd5d0bd06e0 div.sk-toggleable {background-color: white;}#sk-5143ef23-4e82-44b2-b3b8-dbd5d0bd06e0 label.sk-toggleable__label {cursor: pointer;display: block;width: 100%;margin-bottom: 0;padding: 0.2em 0.3em;box-sizing: border-box;text-align: center;}#sk-5143ef23-4e82-44b2-b3b8-dbd5d0bd06e0 div.sk-toggleable__content {max-height: 0;max-width: 0;overflow: hidden;text-align: left;background-color: #f0f8ff;}#sk-5143ef23-4e82-44b2-b3b8-dbd5d0bd06e0 div.sk-toggleable__content pre {margin: 0.2em;color: black;border-radius: 0.25em;background-color: #f0f8ff;}#sk-5143ef23-4e82-44b2-b3b8-dbd5d0bd06e0 input.sk-toggleable__control:checked~div.sk-toggleable__content {max-height: 200px;max-width: 100%;overflow: auto;}#sk-5143ef23-4e82-44b2-b3b8-dbd5d0bd06e0 div.sk-estimator input.sk-toggleable__control:checked~label.sk-toggleable__label {background-color: #d4ebff;}#sk-5143ef23-4e82-44b2-b3b8-dbd5d0bd06e0 div.sk-label input.sk-toggleable__control:checked~label.sk-toggleable__label {background-color: #d4ebff;}#sk-5143ef23-4e82-44b2-b3b8-dbd5d0bd06e0 input.sk-hidden--visually {border: 0;clip: rect(1px 1px 1px 1px);clip: rect(1px, 1px, 1px, 1px);height: 1px;margin: -1px;overflow: hidden;padding: 0;position: absolute;width: 1px;}#sk-5143ef23-4e82-44b2-b3b8-dbd5d0bd06e0 div.sk-estimator {font-family: monospace;background-color: #f0f8ff;margin: 0.25em 0.25em;border: 1px dotted black;border-radius: 0.25em;box-sizing: border-box;}#sk-5143ef23-4e82-44b2-b3b8-dbd5d0bd06e0 div.sk-estimator:hover {background-color: #d4ebff;}#sk-5143ef23-4e82-44b2-b3b8-dbd5d0bd06e0 div.sk-parallel-item::after {content: \"\";width: 100%;border-bottom: 1px solid gray;flex-grow: 1;}#sk-5143ef23-4e82-44b2-b3b8-dbd5d0bd06e0 div.sk-label:hover label.sk-toggleable__label {background-color: #d4ebff;}#sk-5143ef23-4e82-44b2-b3b8-dbd5d0bd06e0 div.sk-serial::before {content: \"\";position: absolute;border-left: 1px solid gray;box-sizing: border-box;top: 2em;bottom: 0;left: 50%;}#sk-5143ef23-4e82-44b2-b3b8-dbd5d0bd06e0 div.sk-serial {display: flex;flex-direction: column;align-items: center;background-color: white;}#sk-5143ef23-4e82-44b2-b3b8-dbd5d0bd06e0 div.sk-item {z-index: 1;}#sk-5143ef23-4e82-44b2-b3b8-dbd5d0bd06e0 div.sk-parallel {display: flex;align-items: stretch;justify-content: center;background-color: white;}#sk-5143ef23-4e82-44b2-b3b8-dbd5d0bd06e0 div.sk-parallel-item {display: flex;flex-direction: column;position: relative;background-color: white;}#sk-5143ef23-4e82-44b2-b3b8-dbd5d0bd06e0 div.sk-parallel-item:first-child::after {align-self: flex-end;width: 50%;}#sk-5143ef23-4e82-44b2-b3b8-dbd5d0bd06e0 div.sk-parallel-item:last-child::after {align-self: flex-start;width: 50%;}#sk-5143ef23-4e82-44b2-b3b8-dbd5d0bd06e0 div.sk-parallel-item:only-child::after {width: 0;}#sk-5143ef23-4e82-44b2-b3b8-dbd5d0bd06e0 div.sk-dashed-wrapped {border: 1px dashed gray;margin: 0.2em;box-sizing: border-box;padding-bottom: 0.1em;background-color: white;position: relative;}#sk-5143ef23-4e82-44b2-b3b8-dbd5d0bd06e0 div.sk-label label {font-family: monospace;font-weight: bold;background-color: white;display: inline-block;line-height: 1.2em;}#sk-5143ef23-4e82-44b2-b3b8-dbd5d0bd06e0 div.sk-label-container {position: relative;z-index: 2;text-align: center;}#sk-5143ef23-4e82-44b2-b3b8-dbd5d0bd06e0 div.sk-container {display: inline-block;position: relative;}</style><div id=\"sk-5143ef23-4e82-44b2-b3b8-dbd5d0bd06e0\" class\"sk-top-container\"><div class=\"sk-container\"><div class=\"sk-item\"><div class=\"sk-estimator sk-toggleable\"><input class=\"sk-toggleable__control sk-hidden--visually\" id=\"d21d84ef-2438-42a0-bf23-4f25d5e7cf32\" type=\"checkbox\" checked><label class=\"sk-toggleable__label\" for=\"d21d84ef-2438-42a0-bf23-4f25d5e7cf32\">NearestNeighbors</label><div class=\"sk-toggleable__content\"><pre>NearestNeighbors(metric='cosine')</pre></div></div></div></div></div>"
      ],
      "text/plain": [
       "NearestNeighbors(metric='cosine')"
      ]
     },
     "execution_count": 151,
     "metadata": {},
     "output_type": "execute_result"
    }
   ],
   "source": [
    "%time\n",
    "nbrs_1000000 = NearestNeighbors(n_neighbors=5,  metric=\"cosine\")\n",
    "nbrs_1000000.fit(teams_df_1000000_input)"
   ]
  },
  {
   "cell_type": "code",
   "execution_count": 157,
   "id": "1a1e46ba",
   "metadata": {},
   "outputs": [
    {
     "name": "stdout",
     "output_type": "stream",
     "text": [
      "CPU times: user 7.04 ms, sys: 5.11 ms, total: 12.2 ms\n",
      "Wall time: 6.69 ms\n"
     ]
    },
    {
     "data": {
      "text/plain": [
       "(array([[3.33066907e-16, 2.28483250e-01, 2.28483250e-01, 2.85714286e-01,\n",
       "         3.31846895e-01]]),\n",
       " array([[  0, 596, 510, 143,  57]]))"
      ]
     },
     "execution_count": 157,
     "metadata": {},
     "output_type": "execute_result"
    }
   ],
   "source": [
    "%%time\n",
    "nbrs_1000.kneighbors([teams_df_1000_input.iloc[0]])"
   ]
  },
  {
   "cell_type": "code",
   "execution_count": 158,
   "id": "117be66d",
   "metadata": {},
   "outputs": [
    {
     "name": "stdout",
     "output_type": "stream",
     "text": [
      "CPU times: user 30.5 ms, sys: 24 ms, total: 54.5 ms\n",
      "Wall time: 38.3 ms\n"
     ]
    },
    {
     "data": {
      "text/plain": [
       "(array([[3.33066907e-16, 1.54845745e-01, 1.98216274e-01, 2.28483250e-01,\n",
       "         2.28483250e-01]]),\n",
       " array([[   0, 1190, 5017, 1667, 3677]]))"
      ]
     },
     "execution_count": 158,
     "metadata": {},
     "output_type": "execute_result"
    }
   ],
   "source": [
    "%%time\n",
    "nbrs_10000.kneighbors([teams_df_10000_input.iloc[0]])"
   ]
  },
  {
   "cell_type": "code",
   "execution_count": 159,
   "id": "95fa2667",
   "metadata": {},
   "outputs": [
    {
     "name": "stdout",
     "output_type": "stream",
     "text": [
      "CPU times: user 207 ms, sys: 120 ms, total: 328 ms\n",
      "Wall time: 250 ms\n"
     ]
    },
    {
     "data": {
      "text/plain": [
       "(array([[0.        , 0.18350342, 0.18350342, 0.18350342, 0.18350342]]),\n",
       " array([[    0, 64473,  1595, 69272, 16644]]))"
      ]
     },
     "execution_count": 159,
     "metadata": {},
     "output_type": "execute_result"
    }
   ],
   "source": [
    "%%time\n",
    "nbrs_100000.kneighbors([teams_df_100000_input.iloc[0]])"
   ]
  },
  {
   "cell_type": "code",
   "execution_count": 160,
   "id": "2450b14e",
   "metadata": {},
   "outputs": [
    {
     "name": "stdout",
     "output_type": "stream",
     "text": [
      "CPU times: user 1.97 s, sys: 842 ms, total: 2.81 s\n",
      "Wall time: 2.23 s\n"
     ]
    },
    {
     "data": {
      "text/plain": [
       "(array([[3.33066907e-16, 1.42857143e-01, 1.42857143e-01, 1.42857143e-01,\n",
       "         1.42857143e-01]]),\n",
       " array([[     0, 459562, 398192, 766023, 474079]]))"
      ]
     },
     "execution_count": 160,
     "metadata": {},
     "output_type": "execute_result"
    }
   ],
   "source": [
    "%%time\n",
    "nbrs_1000000.kneighbors([teams_df_1000000_input.iloc[0]])"
   ]
  },
  {
   "cell_type": "code",
   "execution_count": 161,
   "id": "29bdedc8",
   "metadata": {},
   "outputs": [],
   "source": [
    "performance_nbrs = [6.69, 38.3, 250, 2230]"
   ]
  },
  {
   "cell_type": "code",
   "execution_count": 175,
   "id": "f5b0bbe6",
   "metadata": {},
   "outputs": [],
   "source": [
    "performance_nbrs_training = [0.0691, 0.0787, 0.010, 0.0715]"
   ]
  },
  {
   "cell_type": "markdown",
   "id": "f4e73d55",
   "metadata": {},
   "source": [
    "## aproximate model"
   ]
  },
  {
   "cell_type": "code",
   "execution_count": 162,
   "id": "1e3aac60",
   "metadata": {},
   "outputs": [
    {
     "name": "stdout",
     "output_type": "stream",
     "text": [
      "CPU times: user 231 ms, sys: 8.62 ms, total: 239 ms\n",
      "Wall time: 235 ms\n"
     ]
    },
    {
     "data": {
      "text/plain": [
       "True"
      ]
     },
     "execution_count": 162,
     "metadata": {},
     "output_type": "execute_result"
    }
   ],
   "source": [
    "%%time\n",
    "f = len(teams_df_1000_input.columns)  # Length of item vector that will be indexed\n",
    "\n",
    "t_1000 = AnnoyIndex(f, 'angular')\n",
    "for index, row in teams_df_1000_input.iterrows():\n",
    "    t_1000.add_item(index, row)\n",
    "t_1000.build(10) # 10 trees\n"
   ]
  },
  {
   "cell_type": "code",
   "execution_count": 163,
   "id": "4e4b24d6",
   "metadata": {},
   "outputs": [
    {
     "name": "stdout",
     "output_type": "stream",
     "text": [
      "CPU times: user 2.16 s, sys: 46.9 ms, total: 2.2 s\n",
      "Wall time: 2.12 s\n"
     ]
    },
    {
     "data": {
      "text/plain": [
       "True"
      ]
     },
     "execution_count": 163,
     "metadata": {},
     "output_type": "execute_result"
    }
   ],
   "source": [
    "%%time\n",
    "\n",
    "t_10000 = AnnoyIndex(f, 'angular')\n",
    "for index, row in teams_df_10000_input.iterrows():\n",
    "    t_10000.add_item(index, row)\n",
    "t_10000.build(10) # 10 trees\n"
   ]
  },
  {
   "cell_type": "code",
   "execution_count": 164,
   "id": "8a535e7e",
   "metadata": {},
   "outputs": [
    {
     "name": "stdout",
     "output_type": "stream",
     "text": [
      "CPU times: user 22.7 s, sys: 139 ms, total: 22.9 s\n",
      "Wall time: 21.2 s\n"
     ]
    },
    {
     "data": {
      "text/plain": [
       "True"
      ]
     },
     "execution_count": 164,
     "metadata": {},
     "output_type": "execute_result"
    }
   ],
   "source": [
    "%%time\n",
    "\n",
    "\n",
    "t_100000 = AnnoyIndex(f, 'angular')\n",
    "for index, row in teams_df_100000_input.iterrows():\n",
    "    t_100000.add_item(index, row)\n",
    "t_100000.build(10) # 10 trees\n"
   ]
  },
  {
   "cell_type": "code",
   "execution_count": 165,
   "id": "78f98652",
   "metadata": {},
   "outputs": [
    {
     "name": "stdout",
     "output_type": "stream",
     "text": [
      "CPU times: user 4min 11s, sys: 2.38 s, total: 4min 13s\n",
      "Wall time: 3min 47s\n"
     ]
    },
    {
     "data": {
      "text/plain": [
       "True"
      ]
     },
     "execution_count": 165,
     "metadata": {},
     "output_type": "execute_result"
    }
   ],
   "source": [
    "%%time\n",
    "\n",
    "t_1000000 = AnnoyIndex(f, 'angular')\n",
    "for index, row in teams_df_1000000_input.iterrows():\n",
    "    t_1000000.add_item(index, row)\n",
    "t_1000000.build(10) # 10 trees\n"
   ]
  },
  {
   "cell_type": "code",
   "execution_count": 167,
   "id": "380c4192",
   "metadata": {},
   "outputs": [
    {
     "name": "stdout",
     "output_type": "stream",
     "text": [
      "CPU times: user 1.1 ms, sys: 187 µs, total: 1.29 ms\n",
      "Wall time: 1.24 ms\n"
     ]
    },
    {
     "data": {
      "text/plain": [
       "([0, 510, 122, 332, 821],\n",
       " [0.0003452669770922512,\n",
       "  0.675993025302887,\n",
       "  0.8749704360961914,\n",
       "  0.8749704360961914,\n",
       "  0.8749704360961914])"
      ]
     },
     "execution_count": 167,
     "metadata": {},
     "output_type": "execute_result"
    }
   ],
   "source": [
    "%%time\n",
    "v = teams_df_1000_input.iloc[0]\n",
    "k = 5\n",
    "t_1000.get_nns_by_vector(v, k, search_k=-1, include_distances=True)"
   ]
  },
  {
   "cell_type": "code",
   "execution_count": 168,
   "id": "662cd2dc",
   "metadata": {},
   "outputs": [
    {
     "name": "stdout",
     "output_type": "stream",
     "text": [
      "CPU times: user 1.01 ms, sys: 133 µs, total: 1.14 ms\n",
      "Wall time: 1.11 ms\n"
     ]
    },
    {
     "data": {
      "text/plain": [
       "([0, 1190, 3901, 1468, 8043],\n",
       " [0.0003452669770922512,\n",
       "  0.5564993619918823,\n",
       "  0.675993025302887,\n",
       "  0.7559289932250977,\n",
       "  0.7559289932250977])"
      ]
     },
     "execution_count": 168,
     "metadata": {},
     "output_type": "execute_result"
    }
   ],
   "source": [
    "%%time\n",
    "v = teams_df_10000_input.iloc[0]\n",
    "k = 5\n",
    "t_10000.get_nns_by_vector(v, k, search_k=-1, include_distances=True)"
   ]
  },
  {
   "cell_type": "code",
   "execution_count": 170,
   "id": "6ebe7546",
   "metadata": {},
   "outputs": [
    {
     "name": "stdout",
     "output_type": "stream",
     "text": [
      "CPU times: user 1.09 ms, sys: 132 µs, total: 1.22 ms\n",
      "Wall time: 1.07 ms\n"
     ]
    },
    {
     "data": {
      "text/plain": [
       "([0, 1595, 69272, 8638, 34118],\n",
       " [0.0003452669770922512,\n",
       "  0.6058109402656555,\n",
       "  0.6058109402656555,\n",
       "  0.6582561731338501,\n",
       "  0.6785273551940918])"
      ]
     },
     "execution_count": 170,
     "metadata": {},
     "output_type": "execute_result"
    }
   ],
   "source": [
    "%%time\n",
    "v = teams_df_100000_input.iloc[0]\n",
    "k = 5\n",
    "t_100000.get_nns_by_vector(v, k, search_k=-1, include_distances=True)"
   ]
  },
  {
   "cell_type": "code",
   "execution_count": 171,
   "id": "95e9bdd7",
   "metadata": {},
   "outputs": [
    {
     "name": "stdout",
     "output_type": "stream",
     "text": [
      "CPU times: user 1.23 ms, sys: 158 µs, total: 1.39 ms\n",
      "Wall time: 1.32 ms\n"
     ]
    },
    {
     "data": {
      "text/plain": [
       "([66246, 30307, 67327, 74128, 3639],\n",
       " [0.5564993619918823,\n",
       "  0.6296288967132568,\n",
       "  0.675993025302887,\n",
       "  0.675993025302887,\n",
       "  0.7559289932250977])"
      ]
     },
     "execution_count": 171,
     "metadata": {},
     "output_type": "execute_result"
    }
   ],
   "source": [
    "%%time\n",
    "v = teams_df_1000000_input.iloc[0]\n",
    "k = 5\n",
    "t_100000.get_nns_by_vector(v, k, search_k=-1, include_distances=True)"
   ]
  },
  {
   "cell_type": "code",
   "execution_count": 173,
   "id": "068bbd06",
   "metadata": {},
   "outputs": [],
   "source": [
    "performance_annoy = [1.24, 1.01, 1.07, 1.32] "
   ]
  },
  {
   "cell_type": "code",
   "execution_count": 174,
   "id": "856bede8",
   "metadata": {},
   "outputs": [],
   "source": [
    "performance_annoy_training = [235, 2120, 21200, 227000]"
   ]
  },
  {
   "cell_type": "code",
   "execution_count": 176,
   "id": "202c7b0d",
   "metadata": {},
   "outputs": [],
   "source": [
    "amount_samples = [1000, 10000, 100000, 1000000]"
   ]
  },
  {
   "cell_type": "code",
   "execution_count": 177,
   "id": "99377d96",
   "metadata": {},
   "outputs": [],
   "source": [
    "benchmark_df = pd.DataFrame.from_dict({\"sample_amount\": amount_samples, \n",
    "                                       \"performance_annoy_training\": performance_annoy_training,\n",
    "                                      \"performance_annoy\": performance_annoy,\n",
    "                                      \"performance_nbrs_training\": performance_nbrs_training,\n",
    "                                      \"performance_nbrs\": performance_nbrs})"
   ]
  },
  {
   "cell_type": "code",
   "execution_count": 178,
   "id": "77968fd7",
   "metadata": {},
   "outputs": [
    {
     "data": {
      "text/html": [
       "<div>\n",
       "<style scoped>\n",
       "    .dataframe tbody tr th:only-of-type {\n",
       "        vertical-align: middle;\n",
       "    }\n",
       "\n",
       "    .dataframe tbody tr th {\n",
       "        vertical-align: top;\n",
       "    }\n",
       "\n",
       "    .dataframe thead th {\n",
       "        text-align: right;\n",
       "    }\n",
       "</style>\n",
       "<table border=\"1\" class=\"dataframe\">\n",
       "  <thead>\n",
       "    <tr style=\"text-align: right;\">\n",
       "      <th></th>\n",
       "      <th>sample_amount</th>\n",
       "      <th>performance_annoy_training</th>\n",
       "      <th>performance_annoy</th>\n",
       "      <th>performance_nbrs_training</th>\n",
       "      <th>performance_nbrs</th>\n",
       "    </tr>\n",
       "  </thead>\n",
       "  <tbody>\n",
       "    <tr>\n",
       "      <th>0</th>\n",
       "      <td>1000</td>\n",
       "      <td>235</td>\n",
       "      <td>1.24</td>\n",
       "      <td>0.0691</td>\n",
       "      <td>6.69</td>\n",
       "    </tr>\n",
       "    <tr>\n",
       "      <th>1</th>\n",
       "      <td>10000</td>\n",
       "      <td>2120</td>\n",
       "      <td>1.01</td>\n",
       "      <td>0.0787</td>\n",
       "      <td>38.30</td>\n",
       "    </tr>\n",
       "    <tr>\n",
       "      <th>2</th>\n",
       "      <td>100000</td>\n",
       "      <td>21200</td>\n",
       "      <td>1.07</td>\n",
       "      <td>0.0100</td>\n",
       "      <td>250.00</td>\n",
       "    </tr>\n",
       "    <tr>\n",
       "      <th>3</th>\n",
       "      <td>1000000</td>\n",
       "      <td>227000</td>\n",
       "      <td>1.32</td>\n",
       "      <td>0.0715</td>\n",
       "      <td>2230.00</td>\n",
       "    </tr>\n",
       "  </tbody>\n",
       "</table>\n",
       "</div>"
      ],
      "text/plain": [
       "   sample_amount  performance_annoy_training  performance_annoy  \\\n",
       "0           1000                         235               1.24   \n",
       "1          10000                        2120               1.01   \n",
       "2         100000                       21200               1.07   \n",
       "3        1000000                      227000               1.32   \n",
       "\n",
       "   performance_nbrs_training  performance_nbrs  \n",
       "0                     0.0691              6.69  \n",
       "1                     0.0787             38.30  \n",
       "2                     0.0100            250.00  \n",
       "3                     0.0715           2230.00  "
      ]
     },
     "execution_count": 178,
     "metadata": {},
     "output_type": "execute_result"
    }
   ],
   "source": [
    "benchmark_df.head()"
   ]
  },
  {
   "cell_type": "markdown",
   "id": "dce0cb94",
   "metadata": {},
   "source": [
    "#### Performance: training"
   ]
  },
  {
   "cell_type": "code",
   "execution_count": 180,
   "id": "184d1974",
   "metadata": {},
   "outputs": [],
   "source": [
    "import matplotlib.pyplot as plt"
   ]
  },
  {
   "cell_type": "code",
   "execution_count": 192,
   "id": "fabbe3dc",
   "metadata": {
    "scrolled": true
   },
   "outputs": [
    {
     "data": {
      "text/plain": [
       "<AxesSubplot:title={'center':'performance training'}, xlabel='sample amount', ylabel='time (ms)'>"
      ]
     },
     "execution_count": 192,
     "metadata": {},
     "output_type": "execute_result"
    },
    {
     "data": {
      "image/png": "[encoded data removed]",
      "text/plain": [
       "<Figure size 360x360 with 1 Axes>"
      ]
     },
     "metadata": {
      "needs_background": "light"
     },
     "output_type": "display_data"
    }
   ],
   "source": [
    "axes = plt.gca()\n",
    "benchmark_df.plot(kind=\"line\", x=\"sample_amount\", y=\"performance_annoy_training\", ax=axes, figsize=(5, 5), xlabel= \"sample amount\", ylabel= \"time (ms)\", title=\"performance training\")\n",
    "benchmark_df.plot(kind=\"line\", x=\"sample_amount\", y=\"performance_nbrs_training\", ax=axes, figsize=(5, 5), xlabel= \"sample amount\", ylabel= \"time (ms)\", title=\"performance training\")"
   ]
  },
  {
   "cell_type": "markdown",
   "id": "58af7f91",
   "metadata": {},
   "source": [
    "#### Performance: searching neighbors"
   ]
  },
  {
   "cell_type": "code",
   "execution_count": 193,
   "id": "94492164",
   "metadata": {
    "scrolled": true
   },
   "outputs": [
    {
     "data": {
      "text/plain": [
       "<AxesSubplot:title={'center':'performance search'}, xlabel='sample amount', ylabel='time (ms)'>"
      ]
     },
     "execution_count": 193,
     "metadata": {},
     "output_type": "execute_result"
    },
    {
     "data": {
      "image/png": "[encoded data removed]",
      "text/plain": [
       "<Figure size 360x360 with 1 Axes>"
      ]
     },
     "metadata": {
      "needs_background": "light"
     },
     "output_type": "display_data"
    }
   ],
   "source": [
    "axes = plt.gca()\n",
    "benchmark_df.plot(kind=\"line\", x=\"sample_amount\", y=\"performance_annoy\", ax=axes, figsize=(5, 5), xlabel= \"sample amount\", ylabel= \"time (ms)\", title=\"performance search\")\n",
    "benchmark_df.plot(kind=\"line\", x=\"sample_amount\", y=\"performance_nbrs\", ax=axes,figsize=(5, 5), xlabel= \"sample amount\", ylabel= \"time (ms)\", title=\"performance search\")"
   ]
  },
  {
   "cell_type": "code",
   "execution_count": 1,
   "id": "c7880bca",
   "metadata": {},
   "outputs": [],
   "source": [
    "import pandas as pd"
   ]
  },
  {
   "cell_type": "code",
   "execution_count": 2,
   "id": "712cc6c0",
   "metadata": {},
   "outputs": [],
   "source": [
    "data = pd.DataFrame({\"uid\": [4, 5, 7]})\n",
    "dic = {}\n",
    "for index, row in data.iterrows():\n",
    "    dic[index] = row[\"uid\"]"
   ]
  },
  {
   "cell_type": "code",
   "execution_count": 4,
   "id": "2d5d970b",
   "metadata": {},
   "outputs": [
    {
     "data": {
      "text/plain": [
       "0    4\n",
       "1    5\n",
       "2    7\n",
       "Name: uid, dtype: int64"
      ]
     },
     "execution_count": 4,
     "metadata": {},
     "output_type": "execute_result"
    }
   ],
   "source": [
    "data[\"uid\"]\n"
   ]
  },
  {
   "cell_type": "code",
   "execution_count": 7,
   "id": "3eb4b226",
   "metadata": {},
   "outputs": [
    {
     "data": {
      "text/plain": [
       "5"
      ]
     },
     "execution_count": 7,
     "metadata": {},
     "output_type": "execute_result"
    }
   ],
   "source": [
    "data[\"uid\"][1]"
   ]
  },
  {
   "cell_type": "code",
   "execution_count": 9,
   "id": "f50efd79",
   "metadata": {},
   "outputs": [
    {
     "data": {
      "text/plain": [
       "5"
      ]
     },
     "execution_count": 9,
     "metadata": {},
     "output_type": "execute_result"
    }
   ],
   "source": [
    "data.loc[1][\"uid\"]"
   ]
  }
 ],
 "metadata": {
  "kernelspec": {
   "display_name": "Python 3 (ipykernel)",
   "language": "python",
   "name": "python3"
  },
  "language_info": {
   "codemirror_mode": {
    "name": "ipython",
    "version": 3
   },
   "file_extension": ".py",
   "mimetype": "text/x-python",
   "name": "python",
   "nbconvert_exporter": "python",
   "pygments_lexer": "ipython3",
   "version": "3.8.8"
  }
 },
 "nbformat": 4,
 "nbformat_minor": 5
}
